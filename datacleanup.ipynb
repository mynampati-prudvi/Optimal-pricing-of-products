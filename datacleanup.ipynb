{
 "cells": [
  {
   "cell_type": "code",
   "execution_count": 83,
   "metadata": {},
   "outputs": [],
   "source": [
    "import os\n",
    "import pandas as pd\n",
    "import pandas as pd\n",
    "import numpy as np\n",
    "import seaborn as sns\n",
    "import matplotlib.pyplot as plt\n",
    "# Use \"conda install -c conda-forge holidays\"\n",
    "from datetime import date \n",
    "import holidays"
   ]
  },
  {
   "cell_type": "code",
   "execution_count": 84,
   "metadata": {},
   "outputs": [
    {
     "data": {
      "text/plain": [
       "'C:\\\\Users\\\\vijay.agrawal\\\\Final Project'"
      ]
     },
     "execution_count": 84,
     "metadata": {},
     "output_type": "execute_result"
    }
   ],
   "source": [
    "os.getcwd()"
   ]
  },
  {
   "cell_type": "markdown",
   "metadata": {},
   "source": [
    "Import the datasets from the current working directory:"
   ]
  },
  {
   "cell_type": "code",
   "execution_count": 85,
   "metadata": {},
   "outputs": [],
   "source": [
    "df_products=pd.read_csv(\"Apperal datasets/product_dataset.csv\")"
   ]
  },
  {
   "cell_type": "code",
   "execution_count": 86,
   "metadata": {},
   "outputs": [],
   "source": [
    "df_transactions=pd.read_csv(\"Apperal datasets/transaction_dataset.csv\")"
   ]
  },
  {
   "cell_type": "code",
   "execution_count": 87,
   "metadata": {},
   "outputs": [],
   "source": [
    "df_stores = pd.read_csv(\"Apperal datasets/store_dataset.csv\", na_values = [\"\"]) #Vijay"
   ]
  },
  {
   "cell_type": "code",
   "execution_count": 88,
   "metadata": {},
   "outputs": [],
   "source": [
    "# Women income data obtained from \n",
    "#https://wallethub.com/edu/best-and-worst-states-for-women/10728/\n",
    "#https://statusofwomendata.org/explore-the-data/employment-and-earnings/#chapter\n",
    "#https://statusofwomendata.org/explore-the-data/\n",
    "\n",
    "df_income = pd.read_csv(\"h08b.csv\")"
   ]
  },
  {
   "cell_type": "markdown",
   "metadata": {},
   "source": [
    "# Data Cleansing - df_products"
   ]
  },
  {
   "cell_type": "code",
   "execution_count": 89,
   "metadata": {},
   "outputs": [
    {
     "data": {
      "text/plain": [
       "['DBSKU',\n",
       " 'DEPARTMENT',\n",
       " 'CLASS',\n",
       " 'SUBCLASS',\n",
       " 'DEPARTMENT_NAME',\n",
       " 'CLASS_NAME',\n",
       " 'SUBCLASS_NAME']"
      ]
     },
     "execution_count": 89,
     "metadata": {},
     "output_type": "execute_result"
    }
   ],
   "source": [
    "# Determine the names of the columns in the df_products dataset:\n",
    "df_products.columns.tolist()"
   ]
  },
  {
   "cell_type": "markdown",
   "metadata": {},
   "source": [
    "## Feature Reduction: Remove unneeded columns"
   ]
  },
  {
   "cell_type": "code",
   "execution_count": 90,
   "metadata": {},
   "outputs": [],
   "source": [
    "# Department Name, Class Name and Subclass Name bear no significance in our analysis - drop these columns:\n",
    "df_products=df_products.drop(['DEPARTMENT_NAME', 'CLASS_NAME', 'SUBCLASS_NAME'], axis=1)"
   ]
  },
  {
   "cell_type": "code",
   "execution_count": 91,
   "metadata": {},
   "outputs": [
    {
     "data": {
      "text/plain": [
       "['DBSKU', 'DEPARTMENT', 'CLASS', 'SUBCLASS']"
      ]
     },
     "execution_count": 91,
     "metadata": {},
     "output_type": "execute_result"
    }
   ],
   "source": [
    "# List the column names after dropping the columns in the preceding command:\n",
    "df_products.columns.tolist()"
   ]
  },
  {
   "cell_type": "markdown",
   "metadata": {},
   "source": [
    "## Remove rows with null and missing DBSKU"
   ]
  },
  {
   "cell_type": "code",
   "execution_count": 92,
   "metadata": {},
   "outputs": [
    {
     "data": {
      "text/plain": [
       "DBSKU         2110\n",
       "DEPARTMENT       0\n",
       "CLASS            0\n",
       "SUBCLASS         0\n",
       "dtype: int64"
      ]
     },
     "execution_count": 92,
     "metadata": {},
     "output_type": "execute_result"
    }
   ],
   "source": [
    "# Determine null or missing values in the dataset and treat these values - \n",
    "# as seen below, column DBSKU has 2110 null or missing values:\n",
    "df_products.isna().sum()"
   ]
  },
  {
   "cell_type": "code",
   "execution_count": 93,
   "metadata": {},
   "outputs": [],
   "source": [
    "# The following command wil drop the records that have missing values in DBSKU:\n",
    "df_products = df_products.dropna(axis=0, subset=['DBSKU'])"
   ]
  },
  {
   "cell_type": "code",
   "execution_count": 94,
   "metadata": {},
   "outputs": [
    {
     "data": {
      "text/plain": [
       "DBSKU         0\n",
       "DEPARTMENT    0\n",
       "CLASS         0\n",
       "SUBCLASS      0\n",
       "dtype: int64"
      ]
     },
     "execution_count": 94,
     "metadata": {},
     "output_type": "execute_result"
    }
   ],
   "source": [
    "# Check for null values now - as seen below, there are no null values now. \n",
    "df_products.isna().sum()"
   ]
  },
  {
   "cell_type": "markdown",
   "metadata": {},
   "source": [
    "## Ensure right datatypes for the features"
   ]
  },
  {
   "cell_type": "code",
   "execution_count": 95,
   "metadata": {},
   "outputs": [
    {
     "data": {
      "text/plain": [
       "DBSKU         float64\n",
       "DEPARTMENT      int64\n",
       "CLASS           int64\n",
       "SUBCLASS        int64\n",
       "dtype: object"
      ]
     },
     "execution_count": 95,
     "metadata": {},
     "output_type": "execute_result"
    }
   ],
   "source": [
    "# Determine the datatypes in this dataset:\n",
    "df_products.dtypes"
   ]
  },
  {
   "cell_type": "code",
   "execution_count": 96,
   "metadata": {},
   "outputs": [],
   "source": [
    "# Convert DBSKU (Product Serial Number) to an integer datatype:\n",
    "df_products['DBSKU'] = df_products['DBSKU'].astype('int64')"
   ]
  },
  {
   "cell_type": "code",
   "execution_count": 97,
   "metadata": {},
   "outputs": [
    {
     "data": {
      "text/plain": [
       "DBSKU         int64\n",
       "DEPARTMENT    int64\n",
       "CLASS         int64\n",
       "SUBCLASS      int64\n",
       "dtype: object"
      ]
     },
     "execution_count": 97,
     "metadata": {},
     "output_type": "execute_result"
    }
   ],
   "source": [
    "# Ensure that the data type was changed to int64 on executing the preceding command:\n",
    "df_products.dtypes"
   ]
  },
  {
   "cell_type": "markdown",
   "metadata": {},
   "source": [
    "## Remove duplicate SKUs"
   ]
  },
  {
   "cell_type": "markdown",
   "metadata": {},
   "source": [
    "Remove *duplicate* DBSKU: *df_transactions* table uses DBSKU to identify products uniquely (its department, class, subclass). Hence DBSKU needs to be unique in the *df_products* table."
   ]
  },
  {
   "cell_type": "code",
   "execution_count": 98,
   "metadata": {},
   "outputs": [
    {
     "data": {
      "text/html": [
       "<div>\n",
       "<style scoped>\n",
       "    .dataframe tbody tr th:only-of-type {\n",
       "        vertical-align: middle;\n",
       "    }\n",
       "\n",
       "    .dataframe tbody tr th {\n",
       "        vertical-align: top;\n",
       "    }\n",
       "\n",
       "    .dataframe thead th {\n",
       "        text-align: right;\n",
       "    }\n",
       "</style>\n",
       "<table border=\"1\" class=\"dataframe\">\n",
       "  <thead>\n",
       "    <tr style=\"text-align: right;\">\n",
       "      <th></th>\n",
       "      <th>DBSKU</th>\n",
       "      <th>DEPARTMENT</th>\n",
       "      <th>CLASS</th>\n",
       "      <th>SUBCLASS</th>\n",
       "    </tr>\n",
       "  </thead>\n",
       "  <tbody>\n",
       "    <tr>\n",
       "      <th>21259</th>\n",
       "      <td>100503</td>\n",
       "      <td>10</td>\n",
       "      <td>4</td>\n",
       "      <td>40</td>\n",
       "    </tr>\n",
       "    <tr>\n",
       "      <th>21543</th>\n",
       "      <td>105593</td>\n",
       "      <td>10</td>\n",
       "      <td>3</td>\n",
       "      <td>31</td>\n",
       "    </tr>\n",
       "    <tr>\n",
       "      <th>17321</th>\n",
       "      <td>105593</td>\n",
       "      <td>10</td>\n",
       "      <td>3</td>\n",
       "      <td>31</td>\n",
       "    </tr>\n",
       "  </tbody>\n",
       "</table>\n",
       "</div>"
      ],
      "text/plain": [
       "        DBSKU  DEPARTMENT  CLASS  SUBCLASS\n",
       "21259  100503          10      4        40\n",
       "21543  105593          10      3        31\n",
       "17321  105593          10      3        31"
      ]
     },
     "execution_count": 98,
     "metadata": {},
     "output_type": "execute_result"
    }
   ],
   "source": [
    "# Determine and verify duplicate entries:\n",
    "duplicateRowsDF = df_products[df_products.duplicated(['DBSKU'])]\n",
    "duplicateRowsDF.sort_values(by=['DBSKU']).head(3)"
   ]
  },
  {
   "cell_type": "code",
   "execution_count": 99,
   "metadata": {},
   "outputs": [],
   "source": [
    "# Remove duplicate records from the df_products table:\n",
    "#keep = first will retain the first duplicated row in the dataset and drop the remaining duplicated rows. \n",
    "df_products.drop_duplicates(subset =['DBSKU'], keep = 'first', inplace = True) "
   ]
  },
  {
   "cell_type": "markdown",
   "metadata": {},
   "source": [
    "## Feature Reduction: Combine dependent features into a single feature"
   ]
  },
  {
   "cell_type": "markdown",
   "metadata": {},
   "source": [
    "Analyse features **DEPARTMENT, CLASS and SUBCLASS**:"
   ]
  },
  {
   "cell_type": "code",
   "execution_count": 100,
   "metadata": {},
   "outputs": [
    {
     "data": {
      "text/html": [
       "<div>\n",
       "<style scoped>\n",
       "    .dataframe tbody tr th:only-of-type {\n",
       "        vertical-align: middle;\n",
       "    }\n",
       "\n",
       "    .dataframe tbody tr th {\n",
       "        vertical-align: top;\n",
       "    }\n",
       "\n",
       "    .dataframe thead th {\n",
       "        text-align: right;\n",
       "    }\n",
       "</style>\n",
       "<table border=\"1\" class=\"dataframe\">\n",
       "  <thead>\n",
       "    <tr style=\"text-align: right;\">\n",
       "      <th></th>\n",
       "      <th>DEPARTMENT</th>\n",
       "      <th>CLASS</th>\n",
       "      <th>SUBCLASS</th>\n",
       "      <th>count</th>\n",
       "    </tr>\n",
       "  </thead>\n",
       "  <tbody>\n",
       "    <tr>\n",
       "      <th>0</th>\n",
       "      <td>10</td>\n",
       "      <td>1</td>\n",
       "      <td>5</td>\n",
       "      <td>480</td>\n",
       "    </tr>\n",
       "    <tr>\n",
       "      <th>1</th>\n",
       "      <td>10</td>\n",
       "      <td>1</td>\n",
       "      <td>6</td>\n",
       "      <td>860</td>\n",
       "    </tr>\n",
       "    <tr>\n",
       "      <th>2</th>\n",
       "      <td>10</td>\n",
       "      <td>2</td>\n",
       "      <td>20</td>\n",
       "      <td>4159</td>\n",
       "    </tr>\n",
       "    <tr>\n",
       "      <th>3</th>\n",
       "      <td>10</td>\n",
       "      <td>2</td>\n",
       "      <td>21</td>\n",
       "      <td>2555</td>\n",
       "    </tr>\n",
       "    <tr>\n",
       "      <th>4</th>\n",
       "      <td>10</td>\n",
       "      <td>3</td>\n",
       "      <td>30</td>\n",
       "      <td>155</td>\n",
       "    </tr>\n",
       "    <tr>\n",
       "      <th>5</th>\n",
       "      <td>10</td>\n",
       "      <td>3</td>\n",
       "      <td>31</td>\n",
       "      <td>681</td>\n",
       "    </tr>\n",
       "    <tr>\n",
       "      <th>6</th>\n",
       "      <td>10</td>\n",
       "      <td>3</td>\n",
       "      <td>32</td>\n",
       "      <td>280</td>\n",
       "    </tr>\n",
       "  </tbody>\n",
       "</table>\n",
       "</div>"
      ],
      "text/plain": [
       "   DEPARTMENT  CLASS  SUBCLASS  count\n",
       "0          10      1         5    480\n",
       "1          10      1         6    860\n",
       "2          10      2        20   4159\n",
       "3          10      2        21   2555\n",
       "4          10      3        30    155\n",
       "5          10      3        31    681\n",
       "6          10      3        32    280"
      ]
     },
     "execution_count": 100,
     "metadata": {},
     "output_type": "execute_result"
    }
   ],
   "source": [
    "df_products.groupby(['DEPARTMENT','CLASS', 'SUBCLASS']).size().reset_index().rename(\n",
    "    columns={0:'count'}).sort_values(by=['DEPARTMENT', 'CLASS'], ascending=True).head(7)"
   ]
  },
  {
   "cell_type": "markdown",
   "metadata": {},
   "source": [
    "As seen, combination of *DEPARTMENT* and *SUBCLASS* denotes a product. Combine **DEPARTMENT** and **SUBCLASS** into one column PRODUCT_CLASS and drop the *CLASS* column:"
   ]
  },
  {
   "cell_type": "code",
   "execution_count": 101,
   "metadata": {},
   "outputs": [
    {
     "data": {
      "text/html": [
       "<div>\n",
       "<style scoped>\n",
       "    .dataframe tbody tr th:only-of-type {\n",
       "        vertical-align: middle;\n",
       "    }\n",
       "\n",
       "    .dataframe tbody tr th {\n",
       "        vertical-align: top;\n",
       "    }\n",
       "\n",
       "    .dataframe thead th {\n",
       "        text-align: right;\n",
       "    }\n",
       "</style>\n",
       "<table border=\"1\" class=\"dataframe\">\n",
       "  <thead>\n",
       "    <tr style=\"text-align: right;\">\n",
       "      <th></th>\n",
       "      <th>DBSKU</th>\n",
       "      <th>DEPARTMENT</th>\n",
       "      <th>CLASS</th>\n",
       "      <th>SUBCLASS</th>\n",
       "      <th>PRODUCT_CLASS</th>\n",
       "    </tr>\n",
       "  </thead>\n",
       "  <tbody>\n",
       "    <tr>\n",
       "      <th>0</th>\n",
       "      <td>2182204</td>\n",
       "      <td>12</td>\n",
       "      <td>3</td>\n",
       "      <td>32</td>\n",
       "      <td>12_32</td>\n",
       "    </tr>\n",
       "    <tr>\n",
       "      <th>1</th>\n",
       "      <td>2860882</td>\n",
       "      <td>12</td>\n",
       "      <td>3</td>\n",
       "      <td>31</td>\n",
       "      <td>12_31</td>\n",
       "    </tr>\n",
       "    <tr>\n",
       "      <th>2</th>\n",
       "      <td>2695858</td>\n",
       "      <td>12</td>\n",
       "      <td>5</td>\n",
       "      <td>50</td>\n",
       "      <td>12_50</td>\n",
       "    </tr>\n",
       "  </tbody>\n",
       "</table>\n",
       "</div>"
      ],
      "text/plain": [
       "     DBSKU  DEPARTMENT  CLASS  SUBCLASS PRODUCT_CLASS\n",
       "0  2182204          12      3        32         12_32\n",
       "1  2860882          12      3        31         12_31\n",
       "2  2695858          12      5        50         12_50"
      ]
     },
     "execution_count": 101,
     "metadata": {},
     "output_type": "execute_result"
    }
   ],
   "source": [
    "df_products['PRODUCT_CLASS'] = df_products['DEPARTMENT'].astype(str) + '_' + df_products['SUBCLASS'].astype(str)\n",
    "df_products.head(3)"
   ]
  },
  {
   "cell_type": "code",
   "execution_count": 102,
   "metadata": {},
   "outputs": [],
   "source": [
    "df_products['PRODUCT_CLASS'] = df_products['PRODUCT_CLASS'].astype('str')"
   ]
  },
  {
   "cell_type": "code",
   "execution_count": 103,
   "metadata": {},
   "outputs": [],
   "source": [
    "# Drop Class and Subclass as we now have a combined feature called product_class:\n",
    "df_products = df_products.drop(['CLASS', 'SUBCLASS'], axis=1)"
   ]
  },
  {
   "cell_type": "code",
   "execution_count": 104,
   "metadata": {},
   "outputs": [
    {
     "data": {
      "text/html": [
       "<div>\n",
       "<style scoped>\n",
       "    .dataframe tbody tr th:only-of-type {\n",
       "        vertical-align: middle;\n",
       "    }\n",
       "\n",
       "    .dataframe tbody tr th {\n",
       "        vertical-align: top;\n",
       "    }\n",
       "\n",
       "    .dataframe thead th {\n",
       "        text-align: right;\n",
       "    }\n",
       "</style>\n",
       "<table border=\"1\" class=\"dataframe\">\n",
       "  <thead>\n",
       "    <tr style=\"text-align: right;\">\n",
       "      <th></th>\n",
       "      <th>DBSKU</th>\n",
       "      <th>DEPARTMENT</th>\n",
       "      <th>PRODUCT_CLASS</th>\n",
       "    </tr>\n",
       "  </thead>\n",
       "  <tbody>\n",
       "    <tr>\n",
       "      <th>0</th>\n",
       "      <td>2182204</td>\n",
       "      <td>12</td>\n",
       "      <td>12_32</td>\n",
       "    </tr>\n",
       "    <tr>\n",
       "      <th>1</th>\n",
       "      <td>2860882</td>\n",
       "      <td>12</td>\n",
       "      <td>12_31</td>\n",
       "    </tr>\n",
       "    <tr>\n",
       "      <th>2</th>\n",
       "      <td>2695858</td>\n",
       "      <td>12</td>\n",
       "      <td>12_50</td>\n",
       "    </tr>\n",
       "    <tr>\n",
       "      <th>3</th>\n",
       "      <td>675793</td>\n",
       "      <td>10</td>\n",
       "      <td>10_41</td>\n",
       "    </tr>\n",
       "    <tr>\n",
       "      <th>4</th>\n",
       "      <td>2864173</td>\n",
       "      <td>12</td>\n",
       "      <td>12_40</td>\n",
       "    </tr>\n",
       "  </tbody>\n",
       "</table>\n",
       "</div>"
      ],
      "text/plain": [
       "     DBSKU  DEPARTMENT PRODUCT_CLASS\n",
       "0  2182204          12         12_32\n",
       "1  2860882          12         12_31\n",
       "2  2695858          12         12_50\n",
       "3   675793          10         10_41\n",
       "4  2864173          12         12_40"
      ]
     },
     "execution_count": 104,
     "metadata": {},
     "output_type": "execute_result"
    }
   ],
   "source": [
    "df_products.head()"
   ]
  },
  {
   "cell_type": "code",
   "execution_count": 105,
   "metadata": {},
   "outputs": [],
   "source": [
    "# Export the cleaned file as df_products_cleaned.csv:\n",
    "df_products.to_csv('df_products_clean.csv', index=False)"
   ]
  },
  {
   "cell_type": "markdown",
   "metadata": {},
   "source": [
    " # Data Cleansing - df_stores"
   ]
  },
  {
   "cell_type": "code",
   "execution_count": 106,
   "metadata": {},
   "outputs": [
    {
     "data": {
      "text/plain": [
       "['LOC_IDNT', 'CITY', 'STATE', 'STORE_TYPE', 'POSTAL_CD', 'STORE_SIZE']"
      ]
     },
     "execution_count": 106,
     "metadata": {},
     "output_type": "execute_result"
    }
   ],
   "source": [
    "# Determine the names of the columns in the df_stores dataset:\n",
    "df_stores.columns.tolist()"
   ]
  },
  {
   "cell_type": "markdown",
   "metadata": {},
   "source": [
    "*Postal Code* and *City* are redundant columns representing the same information. We will keep it for now to perform exploratory analysis and then remove it before doing modeling."
   ]
  },
  {
   "cell_type": "markdown",
   "metadata": {},
   "source": [
    "## Impute Null/missing values"
   ]
  },
  {
   "cell_type": "code",
   "execution_count": 107,
   "metadata": {},
   "outputs": [
    {
     "data": {
      "text/plain": [
       "LOC_IDNT        0\n",
       "CITY            0\n",
       "STATE           0\n",
       "STORE_TYPE     33\n",
       "POSTAL_CD       0\n",
       "STORE_SIZE    184\n",
       "dtype: int64"
      ]
     },
     "execution_count": 107,
     "metadata": {},
     "output_type": "execute_result"
    }
   ],
   "source": [
    "# Determine null or missing values in the dataset and treat these values - as seen below, \n",
    "# column STORE_SIZE and STORE_TYPE have null or missing values:\n",
    "df_stores.isna().sum()"
   ]
  },
  {
   "cell_type": "code",
   "execution_count": 108,
   "metadata": {},
   "outputs": [],
   "source": [
    "# Replace null values in the STORE_TYPE with value 'NOT APPLICABLE'\n",
    "# There are certain rows in the dataset that already have this value - NOT APPLICABLE:\n",
    "# df_stores['STORE_TYPE'].fillna('No location format', inplace=True) # Vijay\n",
    "df_stores[\"STORE_TYPE\"].fillna(\"NOT APPLICABLE\", inplace = True) # Dhanush"
   ]
  },
  {
   "cell_type": "code",
   "execution_count": 109,
   "metadata": {},
   "outputs": [],
   "source": [
    "# Replace the null values in the STORE_SIZE with the mean STORE_SIZE value:\n",
    "df_stores = df_stores.replace(to_replace = np.nan, value =df_stores['STORE_SIZE'].mean())"
   ]
  },
  {
   "cell_type": "code",
   "execution_count": 110,
   "metadata": {},
   "outputs": [
    {
     "name": "stdout",
     "output_type": "stream",
     "text": [
      "<class 'pandas.core.frame.DataFrame'>\n",
      "RangeIndex: 1303 entries, 0 to 1302\n",
      "Data columns (total 6 columns):\n",
      "LOC_IDNT      1303 non-null int64\n",
      "CITY          1303 non-null object\n",
      "STATE         1303 non-null object\n",
      "STORE_TYPE    1303 non-null object\n",
      "POSTAL_CD     1303 non-null int64\n",
      "STORE_SIZE    1303 non-null float64\n",
      "dtypes: float64(1), int64(2), object(3)\n",
      "memory usage: 61.2+ KB\n"
     ]
    }
   ],
   "source": [
    "# Check for non null columns - the following code should display the number of non null columns:\n",
    "df_stores.info()"
   ]
  },
  {
   "cell_type": "markdown",
   "metadata": {},
   "source": [
    "## Remove invalid values"
   ]
  },
  {
   "cell_type": "code",
   "execution_count": 111,
   "metadata": {},
   "outputs": [
    {
     "data": {
      "text/plain": [
       "array(['MO', 'NY', 'FL', 'CA', 'NH', 'MA', 'WV', 'IL', 'MD', 'NJ', 'AZ',\n",
       "       'TX', 'IA', 'CT', 'KY', 'LA', 'TN', 'GA', 'OK', 'MI', 'WI', 'OH',\n",
       "       'SC', 'KS', 'VA', 'PA', 'MN', 'DC', 'NV', 'IN', 'DE', 'AL', 'CO',\n",
       "       'AR', 'NC', 'UT', 'RI', 'WY', 'MS', 'ND', 'WA', 'MT', 'ID', 'ME',\n",
       "       'VT', 'OR', 'NM', 'NE', '-1', 'SD'], dtype=object)"
      ]
     },
     "execution_count": 111,
     "metadata": {},
     "output_type": "execute_result"
    }
   ],
   "source": [
    "# Check for the unique state values in the dataset - we notice invalid information with STATE as -1 -\n",
    "# this has to be removed:\n",
    "df_stores['STATE'].unique()"
   ]
  },
  {
   "cell_type": "code",
   "execution_count": 112,
   "metadata": {},
   "outputs": [],
   "source": [
    "# Remove the invalid state code:\n",
    "df_stores = df_stores[df_stores['STATE'] != '-1']"
   ]
  },
  {
   "cell_type": "code",
   "execution_count": 113,
   "metadata": {},
   "outputs": [],
   "source": [
    "# Convert CITY, STATE and STORE_TYPE into features of type string:\n",
    "df_stores['CITY'] = df_stores['CITY'].astype('str')\n",
    "df_stores['STATE'] = df_stores['STATE'].astype('str')\n",
    "df_stores['STORE_TYPE'] = df_stores['STORE_TYPE'].astype('str')"
   ]
  },
  {
   "cell_type": "code",
   "execution_count": 114,
   "metadata": {},
   "outputs": [
    {
     "data": {
      "text/plain": [
       "STORE_TYPE\n",
       "Downtown Store           34\n",
       "Freestanding Store        4\n",
       "Lifestyle Center         12\n",
       "Mega Outlet Mall         30\n",
       "Mini Mall                15\n",
       "NOT APPLICABLE           51\n",
       "Outlet Mall              39\n",
       "Outlet Strip            213\n",
       "Power Strip             345\n",
       "Regional Mall            62\n",
       "Strip Store             480\n",
       "Tourist Outlet Mall       2\n",
       "Tourist Outlet Strip     15\n",
       "Name: LOC_IDNT, dtype: int64"
      ]
     },
     "execution_count": 114,
     "metadata": {},
     "output_type": "execute_result"
    }
   ],
   "source": [
    "# Determine the number of stores by type:\n",
    "df_stores.groupby('STORE_TYPE')['LOC_IDNT'].nunique()"
   ]
  },
  {
   "cell_type": "markdown",
   "metadata": {},
   "source": [
    "Based on the preceding information, most store types are either Strip or Malls - categorise store types based on this information to determine whether profits are driven by these values"
   ]
  },
  {
   "cell_type": "markdown",
   "metadata": {},
   "source": [
    "## Reduce cardinality of a Store Type for better analysis"
   ]
  },
  {
   "cell_type": "code",
   "execution_count": 115,
   "metadata": {},
   "outputs": [],
   "source": [
    "import re\n",
    "r1 = re.compile(r'.*(Mall).*')\n",
    "r2 = re.compile(r'.*(Strip).*')\n",
    "r3 = re.compile(r'.*(Downtown).*|.*(Freestanding).*|.*(Lifestyle).*|.*(APPLICABLE).*')"
   ]
  },
  {
   "cell_type": "code",
   "execution_count": 116,
   "metadata": {},
   "outputs": [],
   "source": [
    "# perform regex matching based on r1, r2 and r3 defined above to create 3 new columns - \n",
    "# one for each store type - MALLS, STRIPS and ALL OTHERS. \n",
    "df_stores['STORE_TYPE_MALL'] = df_stores.apply(lambda row: bool(r1.match(row['STORE_TYPE'])), axis = 1) \n",
    "df_stores['STORE_TYPE_STRIP'] = df_stores.apply(lambda row: bool(r2.match(row['STORE_TYPE'])), axis = 1) \n",
    "df_stores['STORE_TYPE_OTHER'] = df_stores.apply(lambda row: bool(r3.match(row['STORE_TYPE'])), axis = 1)"
   ]
  },
  {
   "cell_type": "code",
   "execution_count": 117,
   "metadata": {},
   "outputs": [],
   "source": [
    "# Convert boolean values True and False into 1's and 0's:\n",
    "df_stores['STORE_TYPE_MALL'] = df_stores['STORE_TYPE_MALL'].astype(int)\n",
    "df_stores['STORE_TYPE_STRIP'] = df_stores['STORE_TYPE_STRIP'].astype(int)\n",
    "df_stores['STORE_TYPE_OTHER'] = df_stores['STORE_TYPE_OTHER'].astype(int)"
   ]
  },
  {
   "cell_type": "code",
   "execution_count": 118,
   "metadata": {},
   "outputs": [
    {
     "data": {
      "text/html": [
       "<div>\n",
       "<style scoped>\n",
       "    .dataframe tbody tr th:only-of-type {\n",
       "        vertical-align: middle;\n",
       "    }\n",
       "\n",
       "    .dataframe tbody tr th {\n",
       "        vertical-align: top;\n",
       "    }\n",
       "\n",
       "    .dataframe thead th {\n",
       "        text-align: right;\n",
       "    }\n",
       "</style>\n",
       "<table border=\"1\" class=\"dataframe\">\n",
       "  <thead>\n",
       "    <tr style=\"text-align: right;\">\n",
       "      <th></th>\n",
       "      <th>LOC_IDNT</th>\n",
       "      <th>CITY</th>\n",
       "      <th>STATE</th>\n",
       "      <th>STORE_TYPE</th>\n",
       "      <th>POSTAL_CD</th>\n",
       "      <th>STORE_SIZE</th>\n",
       "      <th>STORE_TYPE_MALL</th>\n",
       "      <th>STORE_TYPE_STRIP</th>\n",
       "      <th>STORE_TYPE_OTHER</th>\n",
       "    </tr>\n",
       "  </thead>\n",
       "  <tbody>\n",
       "    <tr>\n",
       "      <th>0</th>\n",
       "      <td>249</td>\n",
       "      <td>ST LOUIS</td>\n",
       "      <td>MO</td>\n",
       "      <td>Strip Store</td>\n",
       "      <td>63119</td>\n",
       "      <td>3963.0</td>\n",
       "      <td>0</td>\n",
       "      <td>1</td>\n",
       "      <td>0</td>\n",
       "    </tr>\n",
       "    <tr>\n",
       "      <th>1</th>\n",
       "      <td>401</td>\n",
       "      <td>PATCHOGUE</td>\n",
       "      <td>NY</td>\n",
       "      <td>Power Strip</td>\n",
       "      <td>11772</td>\n",
       "      <td>3378.0</td>\n",
       "      <td>0</td>\n",
       "      <td>1</td>\n",
       "      <td>0</td>\n",
       "    </tr>\n",
       "    <tr>\n",
       "      <th>2</th>\n",
       "      <td>644</td>\n",
       "      <td>NAPLES</td>\n",
       "      <td>FL</td>\n",
       "      <td>Outlet Strip</td>\n",
       "      <td>34114</td>\n",
       "      <td>3652.0</td>\n",
       "      <td>0</td>\n",
       "      <td>1</td>\n",
       "      <td>0</td>\n",
       "    </tr>\n",
       "  </tbody>\n",
       "</table>\n",
       "</div>"
      ],
      "text/plain": [
       "   LOC_IDNT             CITY STATE    STORE_TYPE  POSTAL_CD  STORE_SIZE  \\\n",
       "0       249  ST LOUIS           MO   Strip Store      63119      3963.0   \n",
       "1       401  PATCHOGUE          NY   Power Strip      11772      3378.0   \n",
       "2       644           NAPLES    FL  Outlet Strip      34114      3652.0   \n",
       "\n",
       "   STORE_TYPE_MALL  STORE_TYPE_STRIP  STORE_TYPE_OTHER  \n",
       "0                0                 1                 0  \n",
       "1                0                 1                 0  \n",
       "2                0                 1                 0  "
      ]
     },
     "execution_count": 118,
     "metadata": {},
     "output_type": "execute_result"
    }
   ],
   "source": [
    "# Verify the new df_stores dataset:\n",
    "df_stores.head(3)"
   ]
  },
  {
   "cell_type": "code",
   "execution_count": 119,
   "metadata": {},
   "outputs": [],
   "source": [
    "# Drop the column STORE_TYPE as we now have 3 new columns based on STORE_TYPES:\n",
    "df_stores = df_stores.drop(['STORE_TYPE'], axis=1)"
   ]
  },
  {
   "cell_type": "code",
   "execution_count": 120,
   "metadata": {},
   "outputs": [
    {
     "data": {
      "text/plain": [
       "count    1302.000000\n",
       "mean     3345.776586\n",
       "std       769.549478\n",
       "min         1.000000\n",
       "25%      3064.000000\n",
       "50%      3345.776586\n",
       "75%      3699.250000\n",
       "max      6533.000000\n",
       "Name: STORE_SIZE, dtype: float64"
      ]
     },
     "execution_count": 120,
     "metadata": {},
     "output_type": "execute_result"
    }
   ],
   "source": [
    "# Data cleansing for STORE_SIZE:\n",
    "df_stores.STORE_SIZE.describe()"
   ]
  },
  {
   "cell_type": "code",
   "execution_count": 121,
   "metadata": {},
   "outputs": [
    {
     "data": {
      "application/vnd.jupyter.widget-view+json": {
       "model_id": "bbacb07311ed4b93ac6c9918213e88df",
       "version_major": 2,
       "version_minor": 0
      },
      "text/plain": [
       "HBox(children=(IntProgress(value=1, bar_style='info', max=1), HTML(value='')))"
      ]
     },
     "metadata": {},
     "output_type": "display_data"
    },
    {
     "name": "stdout",
     "output_type": "stream",
     "text": [
      "\n"
     ]
    }
   ],
   "source": [
    "# Import TQDM to view progress bar:\n",
    "from tqdm import tqdm_notebook as tqdm\n",
    "tqdm().pandas()"
   ]
  },
  {
   "cell_type": "markdown",
   "metadata": {},
   "source": [
    "Notice that the store size is *incorrect* with 1 sq ft (minimum value) - this has to corrected - wherever the store size is 1, replace with the *mean store size* of that **particular** *store type*:"
   ]
  },
  {
   "cell_type": "markdown",
   "metadata": {},
   "source": [
    "## Impute invalid values (that dont make practical sense) in Store Size"
   ]
  },
  {
   "cell_type": "code",
   "execution_count": 122,
   "metadata": {},
   "outputs": [
    {
     "data": {
      "application/vnd.jupyter.widget-view+json": {
       "model_id": "f94f642c65084937b162313f0090e1ed",
       "version_major": 2,
       "version_minor": 0
      },
      "text/plain": [
       "HBox(children=(IntProgress(value=1, bar_style='info', max=1), HTML(value='')))"
      ]
     },
     "metadata": {},
     "output_type": "display_data"
    },
    {
     "name": "stdout",
     "output_type": "stream",
     "text": [
      "\n"
     ]
    }
   ],
   "source": [
    "for index, row in tqdm(df_stores.iterrows()):\n",
    "    if ((row['STORE_SIZE'] == 1.0) and (row['STORE_TYPE_MALL'] == 1)):\n",
    "        df_stores.at[index,'STORE_SIZE'] = df_stores[df_stores['STORE_TYPE_MALL'] == 1]['STORE_SIZE'].mean()\n",
    "    elif ((row['STORE_SIZE'] == 1.0) and (row['STORE_TYPE_STRIP'] == 1)):\n",
    "        df_stores.at[index,'STORE_SIZE'] = df_stores[df_stores['STORE_TYPE_STRIP'] == 1]['STORE_SIZE'].mean()\n",
    "    elif ((row['STORE_SIZE'] == 1.0) and (row['STORE_TYPE_OTHER'] == 1)):\n",
    "        df_stores.at[index,'STORE_SIZE'] = df_stores[df_stores['STORE_TYPE_OTHER'] == 1]['STORE_SIZE'].mean()"
   ]
  },
  {
   "cell_type": "code",
   "execution_count": 123,
   "metadata": {},
   "outputs": [],
   "source": [
    "# Round off store sizes to the nearest hundred and remove any decimals:\n",
    "df_stores['STORE_SIZE'] = np.ceil(df_stores['STORE_SIZE']/100)*100\n",
    "df_stores['STORE_SIZE'] = df_stores['STORE_SIZE'].astype(int)"
   ]
  },
  {
   "cell_type": "code",
   "execution_count": 124,
   "metadata": {},
   "outputs": [
    {
     "data": {
      "text/plain": [
       "array([4000, 3400, 3700, 2600, 3100, 2900, 2300, 4800, 4900, 3200, 3300,\n",
       "       3500, 5200, 2800, 3600, 4700, 3800, 3900, 4300, 4400, 4500, 2500,\n",
       "       4100, 5000, 2700, 3000, 4200, 6100, 4600, 5100, 5300, 5700, 5600,\n",
       "       2400, 2100, 5400, 1900, 2200, 6600, 6300,  100, 6000, 1800],\n",
       "      dtype=int64)"
      ]
     },
     "execution_count": 124,
     "metadata": {},
     "output_type": "execute_result"
    }
   ],
   "source": [
    "# The unique store sizes are as follows:\n",
    "df_stores['STORE_SIZE'].unique()"
   ]
  },
  {
   "cell_type": "markdown",
   "metadata": {},
   "source": [
    "## DATA AUGMENTATION - enahnce dataset by adding Income and Gender Data"
   ]
  },
  {
   "cell_type": "markdown",
   "metadata": {},
   "source": [
    "**MERGE** - *df_stores* and *df_income* - **DF_INCOME** is an external dataset to enhance information - this supplies information about *women employment percentage* by STATE - the value fashion retailer sells clothing for working women. "
   ]
  },
  {
   "cell_type": "code",
   "execution_count": 125,
   "metadata": {},
   "outputs": [],
   "source": [
    "# Merge these 2 datasets based on common column - STATE: \n",
    "df_stores = pd.merge(df_stores, df_income, on='STATE')"
   ]
  },
  {
   "cell_type": "code",
   "execution_count": 126,
   "metadata": {},
   "outputs": [
    {
     "data": {
      "text/html": [
       "<div>\n",
       "<style scoped>\n",
       "    .dataframe tbody tr th:only-of-type {\n",
       "        vertical-align: middle;\n",
       "    }\n",
       "\n",
       "    .dataframe tbody tr th {\n",
       "        vertical-align: top;\n",
       "    }\n",
       "\n",
       "    .dataframe thead th {\n",
       "        text-align: right;\n",
       "    }\n",
       "</style>\n",
       "<table border=\"1\" class=\"dataframe\">\n",
       "  <thead>\n",
       "    <tr style=\"text-align: right;\">\n",
       "      <th></th>\n",
       "      <th>LOC_IDNT</th>\n",
       "      <th>CITY</th>\n",
       "      <th>STATE</th>\n",
       "      <th>POSTAL_CD</th>\n",
       "      <th>STORE_SIZE</th>\n",
       "      <th>STORE_TYPE_MALL</th>\n",
       "      <th>STORE_TYPE_STRIP</th>\n",
       "      <th>STORE_TYPE_OTHER</th>\n",
       "      <th>STATE_NAME</th>\n",
       "      <th>3YR_MEDIAN_HOUSEHLD_INCOME</th>\n",
       "      <th>PCNT_WOMEN_EMPLOYED</th>\n",
       "      <th>PCNT_WOMEN_EMPLOYED_RANK</th>\n",
       "    </tr>\n",
       "  </thead>\n",
       "  <tbody>\n",
       "    <tr>\n",
       "      <th>0</th>\n",
       "      <td>249</td>\n",
       "      <td>ST LOUIS</td>\n",
       "      <td>MO</td>\n",
       "      <td>63119</td>\n",
       "      <td>4000</td>\n",
       "      <td>0</td>\n",
       "      <td>1</td>\n",
       "      <td>0</td>\n",
       "      <td>Missouri</td>\n",
       "      <td>58111</td>\n",
       "      <td>59.9%</td>\n",
       "      <td>22</td>\n",
       "    </tr>\n",
       "    <tr>\n",
       "      <th>1</th>\n",
       "      <td>925</td>\n",
       "      <td>KANSAS CITY</td>\n",
       "      <td>MO</td>\n",
       "      <td>64153</td>\n",
       "      <td>3400</td>\n",
       "      <td>0</td>\n",
       "      <td>0</td>\n",
       "      <td>1</td>\n",
       "      <td>Missouri</td>\n",
       "      <td>58111</td>\n",
       "      <td>59.9%</td>\n",
       "      <td>22</td>\n",
       "    </tr>\n",
       "    <tr>\n",
       "      <th>2</th>\n",
       "      <td>39</td>\n",
       "      <td>ST JOSEPH</td>\n",
       "      <td>MO</td>\n",
       "      <td>64506</td>\n",
       "      <td>3900</td>\n",
       "      <td>0</td>\n",
       "      <td>1</td>\n",
       "      <td>0</td>\n",
       "      <td>Missouri</td>\n",
       "      <td>58111</td>\n",
       "      <td>59.9%</td>\n",
       "      <td>22</td>\n",
       "    </tr>\n",
       "  </tbody>\n",
       "</table>\n",
       "</div>"
      ],
      "text/plain": [
       "   LOC_IDNT             CITY STATE  POSTAL_CD  STORE_SIZE  STORE_TYPE_MALL  \\\n",
       "0       249  ST LOUIS           MO      63119        4000                0   \n",
       "1       925      KANSAS CITY    MO      64153        3400                0   \n",
       "2        39  ST JOSEPH          MO      64506        3900                0   \n",
       "\n",
       "   STORE_TYPE_STRIP  STORE_TYPE_OTHER STATE_NAME  3YR_MEDIAN_HOUSEHLD_INCOME  \\\n",
       "0                 1                 0   Missouri                       58111   \n",
       "1                 0                 1   Missouri                       58111   \n",
       "2                 1                 0   Missouri                       58111   \n",
       "\n",
       "  PCNT_WOMEN_EMPLOYED  PCNT_WOMEN_EMPLOYED_RANK  \n",
       "0               59.9%                        22  \n",
       "1               59.9%                        22  \n",
       "2               59.9%                        22  "
      ]
     },
     "execution_count": 126,
     "metadata": {},
     "output_type": "execute_result"
    }
   ],
   "source": [
    "# Verify that the datasets have been merged:\n",
    "df_stores.head(3)"
   ]
  },
  {
   "cell_type": "code",
   "execution_count": 127,
   "metadata": {},
   "outputs": [
    {
     "data": {
      "text/plain": [
       "count     1302.000000\n",
       "mean     61729.072965\n",
       "std       7632.152664\n",
       "min      42283.000000\n",
       "25%      57367.000000\n",
       "50%      61741.000000\n",
       "75%      67891.000000\n",
       "max      77525.000000\n",
       "Name: MEDIAN_HOUSEHLD_INCOME, dtype: float64"
      ]
     },
     "execution_count": 127,
     "metadata": {},
     "output_type": "execute_result"
    }
   ],
   "source": [
    "df_stores = df_stores.rename(columns={\"3YR_MEDIAN_HOUSEHLD_INCOME\": \"MEDIAN_HOUSEHLD_INCOME\"})\n",
    "df_stores['MEDIAN_HOUSEHLD_INCOME'].describe()"
   ]
  },
  {
   "cell_type": "code",
   "execution_count": 128,
   "metadata": {},
   "outputs": [],
   "source": [
    "# Bin 3 Year household median income (by state) based on the following cut points - \n",
    "# these cut points have been obtained from the minimum, 25th, 50th, 75th and maximum percentile values \n",
    "# of the field MEDIAN_HOUSEHLD_INCOME:\n",
    "cut_points = [0, 42283, 57367, 61741, 67891, 77525]\n",
    "labels = [1, 2, 3, 4, 5]\n",
    "df_stores['MEDIAN_HOUSEHLD_INCOME_BINS'] = pd.cut(df_stores['MEDIAN_HOUSEHLD_INCOME'],\n",
    "                                                      bins=cut_points,labels=labels,include_lowest=True)"
   ]
  },
  {
   "cell_type": "code",
   "execution_count": 129,
   "metadata": {},
   "outputs": [],
   "source": [
    "# Convert percentage of women employed (by state) to float and round of 2 decimals. \n",
    "df_stores['PCNT_WOMEN_EMPLOYED'] = (df_stores['PCNT_WOMEN_EMPLOYED'].str.strip('%').astype('float64')/100).round(2)"
   ]
  },
  {
   "cell_type": "code",
   "execution_count": 130,
   "metadata": {},
   "outputs": [],
   "source": [
    "# This is a redundant column and the information is already represented by PCNT_WOMEN_EMPLOYED - \n",
    "# hence this column can be dropped:\n",
    "df_stores = df_stores.drop(['PCNT_WOMEN_EMPLOYED_RANK'], axis=1)"
   ]
  },
  {
   "cell_type": "code",
   "execution_count": 131,
   "metadata": {},
   "outputs": [],
   "source": [
    "# Rename lOC_IDNT to LOC_INDT to merge with df_transactions table:\n",
    "df_stores = df_stores.rename(columns={\"LOC_IDNT\": \"LOC_INDT\"})"
   ]
  },
  {
   "cell_type": "code",
   "execution_count": 132,
   "metadata": {},
   "outputs": [],
   "source": [
    "# Sort LOC_INDT and create a sequential value for each LOC_INDT - now the values are scattered:\n",
    "df_stores = df_stores.sort_values(by ='LOC_INDT')\n",
    "df_stores.insert(1, 'LOC_INDT_SEQ', range(1, 1 + len(df_stores)))"
   ]
  },
  {
   "cell_type": "code",
   "execution_count": 133,
   "metadata": {},
   "outputs": [
    {
     "data": {
      "text/html": [
       "<div>\n",
       "<style scoped>\n",
       "    .dataframe tbody tr th:only-of-type {\n",
       "        vertical-align: middle;\n",
       "    }\n",
       "\n",
       "    .dataframe tbody tr th {\n",
       "        vertical-align: top;\n",
       "    }\n",
       "\n",
       "    .dataframe thead th {\n",
       "        text-align: right;\n",
       "    }\n",
       "</style>\n",
       "<table border=\"1\" class=\"dataframe\">\n",
       "  <thead>\n",
       "    <tr style=\"text-align: right;\">\n",
       "      <th></th>\n",
       "      <th>LOC_INDT</th>\n",
       "      <th>LOC_INDT_SEQ</th>\n",
       "      <th>CITY</th>\n",
       "      <th>STATE</th>\n",
       "      <th>POSTAL_CD</th>\n",
       "      <th>STORE_SIZE</th>\n",
       "      <th>STORE_TYPE_MALL</th>\n",
       "      <th>STORE_TYPE_STRIP</th>\n",
       "      <th>STORE_TYPE_OTHER</th>\n",
       "      <th>STATE_NAME</th>\n",
       "      <th>MEDIAN_HOUSEHLD_INCOME</th>\n",
       "      <th>PCNT_WOMEN_EMPLOYED</th>\n",
       "      <th>MEDIAN_HOUSEHLD_INCOME_BINS</th>\n",
       "    </tr>\n",
       "  </thead>\n",
       "  <tbody>\n",
       "    <tr>\n",
       "      <th>720</th>\n",
       "      <td>2</td>\n",
       "      <td>1</td>\n",
       "      <td>NORWALK</td>\n",
       "      <td>CT</td>\n",
       "      <td>6851</td>\n",
       "      <td>6100</td>\n",
       "      <td>0</td>\n",
       "      <td>0</td>\n",
       "      <td>1</td>\n",
       "      <td>Connecticut</td>\n",
       "      <td>75251</td>\n",
       "      <td>0.63</td>\n",
       "      <td>5</td>\n",
       "    </tr>\n",
       "    <tr>\n",
       "      <th>682</th>\n",
       "      <td>3</td>\n",
       "      <td>2</td>\n",
       "      <td>MCALLEN</td>\n",
       "      <td>TX</td>\n",
       "      <td>78504</td>\n",
       "      <td>3600</td>\n",
       "      <td>0</td>\n",
       "      <td>1</td>\n",
       "      <td>0</td>\n",
       "      <td>Texas</td>\n",
       "      <td>59041</td>\n",
       "      <td>0.58</td>\n",
       "      <td>3</td>\n",
       "    </tr>\n",
       "    <tr>\n",
       "      <th>987</th>\n",
       "      <td>4</td>\n",
       "      <td>3</td>\n",
       "      <td>VIRGINIA BEACH</td>\n",
       "      <td>VA</td>\n",
       "      <td>23456</td>\n",
       "      <td>3700</td>\n",
       "      <td>0</td>\n",
       "      <td>1</td>\n",
       "      <td>0</td>\n",
       "      <td>Virginia</td>\n",
       "      <td>67597</td>\n",
       "      <td>0.61</td>\n",
       "      <td>4</td>\n",
       "    </tr>\n",
       "    <tr>\n",
       "      <th>164</th>\n",
       "      <td>5</td>\n",
       "      <td>4</td>\n",
       "      <td>NANUET</td>\n",
       "      <td>NY</td>\n",
       "      <td>10954</td>\n",
       "      <td>2600</td>\n",
       "      <td>0</td>\n",
       "      <td>1</td>\n",
       "      <td>0</td>\n",
       "      <td>New York</td>\n",
       "      <td>61741</td>\n",
       "      <td>0.59</td>\n",
       "      <td>3</td>\n",
       "    </tr>\n",
       "    <tr>\n",
       "      <th>1084</th>\n",
       "      <td>6</td>\n",
       "      <td>5</td>\n",
       "      <td>LAS VEGAS</td>\n",
       "      <td>NV</td>\n",
       "      <td>89106</td>\n",
       "      <td>3300</td>\n",
       "      <td>0</td>\n",
       "      <td>1</td>\n",
       "      <td>0</td>\n",
       "      <td>Nevada</td>\n",
       "      <td>55662</td>\n",
       "      <td>0.59</td>\n",
       "      <td>2</td>\n",
       "    </tr>\n",
       "  </tbody>\n",
       "</table>\n",
       "</div>"
      ],
      "text/plain": [
       "      LOC_INDT  LOC_INDT_SEQ             CITY STATE  POSTAL_CD  STORE_SIZE  \\\n",
       "720          2             1  NORWALK            CT       6851        6100   \n",
       "682          3             2  MCALLEN            TX      78504        3600   \n",
       "987          4             3  VIRGINIA BEACH     VA      23456        3700   \n",
       "164          5             4           NANUET    NY      10954        2600   \n",
       "1084         6             5        LAS VEGAS    NV      89106        3300   \n",
       "\n",
       "      STORE_TYPE_MALL  STORE_TYPE_STRIP  STORE_TYPE_OTHER   STATE_NAME  \\\n",
       "720                 0                 0                 1  Connecticut   \n",
       "682                 0                 1                 0        Texas   \n",
       "987                 0                 1                 0     Virginia   \n",
       "164                 0                 1                 0     New York   \n",
       "1084                0                 1                 0       Nevada   \n",
       "\n",
       "      MEDIAN_HOUSEHLD_INCOME  PCNT_WOMEN_EMPLOYED MEDIAN_HOUSEHLD_INCOME_BINS  \n",
       "720                    75251                 0.63                           5  \n",
       "682                    59041                 0.58                           3  \n",
       "987                    67597                 0.61                           4  \n",
       "164                    61741                 0.59                           3  \n",
       "1084                   55662                 0.59                           2  "
      ]
     },
     "execution_count": 133,
     "metadata": {},
     "output_type": "execute_result"
    }
   ],
   "source": [
    "# Verify the dataset:\n",
    "df_stores.head()"
   ]
  },
  {
   "cell_type": "markdown",
   "metadata": {},
   "source": [
    "  Lets cleanup store_size"
   ]
  },
  {
   "cell_type": "code",
   "execution_count": 134,
   "metadata": {},
   "outputs": [
    {
     "data": {
      "text/plain": [
       "count    1302.000000\n",
       "mean     3470.046083\n",
       "std       581.307465\n",
       "min       100.000000\n",
       "25%      3200.000000\n",
       "50%      3400.000000\n",
       "75%      3700.000000\n",
       "max      6600.000000\n",
       "Name: STORE_SIZE, dtype: float64"
      ]
     },
     "execution_count": 134,
     "metadata": {},
     "output_type": "execute_result"
    }
   ],
   "source": [
    "df_stores.STORE_SIZE.describe()"
   ]
  },
  {
   "cell_type": "markdown",
   "metadata": {},
   "source": [
    "  As can be seen, > 50% stores are in range of 3000-3700 sq ft\n",
    "  Some stores have '1' as size, which is clearly wrong - we need to impute/drop them"
   ]
  },
  {
   "cell_type": "code",
   "execution_count": 135,
   "metadata": {},
   "outputs": [
    {
     "data": {
      "text/plain": [
       "3400    264\n",
       "3300     93\n",
       "3200     80\n",
       "3500     77\n",
       "3700     75\n",
       "Name: STORE_SIZE, dtype: int64"
      ]
     },
     "execution_count": 135,
     "metadata": {},
     "output_type": "execute_result"
    }
   ],
   "source": [
    "df_stores.STORE_SIZE.value_counts().head()"
   ]
  },
  {
   "cell_type": "code",
   "execution_count": 136,
   "metadata": {},
   "outputs": [],
   "source": [
    "#If any store has size of 1, impute it\n",
    "df_stores['STORE_SIZE'] = df_stores['STORE_SIZE'].apply(lambda x:df_stores['STORE_SIZE'].mean() if x == 1.0 else x)"
   ]
  },
  {
   "cell_type": "code",
   "execution_count": 137,
   "metadata": {},
   "outputs": [],
   "source": [
    "# Export the dataset as df_stores_clean.csv:\n",
    "df_stores.to_csv('df_stores_clean.csv', index=False)"
   ]
  },
  {
   "cell_type": "markdown",
   "metadata": {},
   "source": [
    " # Data Cleansing - df_transactions"
   ]
  },
  {
   "cell_type": "code",
   "execution_count": 138,
   "metadata": {},
   "outputs": [],
   "source": [
    "# Randomly choose 55% of the data from the df_transactions for processing - \n",
    "# this is due to save computing power as df_transactions has close to 10.3 million records:\n",
    "# TODO For final submission, comment this out so that full dataset is taken\n",
    "#df_transactions = df_transactions.sample(frac =.55, random_state = 100)"
   ]
  },
  {
   "cell_type": "code",
   "execution_count": 139,
   "metadata": {},
   "outputs": [
    {
     "data": {
      "text/plain": [
       "(13053149, 9)"
      ]
     },
     "execution_count": 139,
     "metadata": {},
     "output_type": "execute_result"
    }
   ],
   "source": [
    "# we will be processing close to 7 million records as opposed to 10.3 million records:\n",
    "df_transactions.shape"
   ]
  },
  {
   "cell_type": "code",
   "execution_count": 140,
   "metadata": {},
   "outputs": [
    {
     "data": {
      "text/plain": [
       "['DAY_DT',\n",
       " 'LOC_INDT',\n",
       " 'DBSKU',\n",
       " 'ONLINE_FLAG',\n",
       " 'FULL_PRICE_IND',\n",
       " 'TOTAL_SALES',\n",
       " 'TOTAL_UNITS',\n",
       " 'TOTAL_SALES_PRFT',\n",
       " 'TOTAL_COST']"
      ]
     },
     "execution_count": 140,
     "metadata": {},
     "output_type": "execute_result"
    }
   ],
   "source": [
    "# Determine the columns in this dataset df_transactions:\n",
    "df_transactions.columns.tolist()"
   ]
  },
  {
   "cell_type": "markdown",
   "metadata": {},
   "source": [
    "## Drop transactions that dont have SKU entered"
   ]
  },
  {
   "cell_type": "code",
   "execution_count": 141,
   "metadata": {},
   "outputs": [
    {
     "data": {
      "text/plain": [
       "DAY_DT                0\n",
       "LOC_INDT              0\n",
       "DBSKU               804\n",
       "ONLINE_FLAG           0\n",
       "FULL_PRICE_IND        0\n",
       "TOTAL_SALES           0\n",
       "TOTAL_UNITS           0\n",
       "TOTAL_SALES_PRFT      0\n",
       "TOTAL_COST            0\n",
       "dtype: int64"
      ]
     },
     "execution_count": 141,
     "metadata": {},
     "output_type": "execute_result"
    }
   ],
   "source": [
    "# Check for null values in this dataset df_transactions:\n",
    "df_transactions.isna().sum()"
   ]
  },
  {
   "cell_type": "markdown",
   "metadata": {},
   "source": [
    "Notice that there are 429 records (in DBSKU) that have null or missing values in this dataset - given that this is a very neglible number compared to the number of records in the dataset, we will be dropping the records. "
   ]
  },
  {
   "cell_type": "code",
   "execution_count": 142,
   "metadata": {},
   "outputs": [],
   "source": [
    "# drop records that have null or missing values:\n",
    "df_transactions = df_transactions.dropna(axis=0, subset=['DBSKU'])"
   ]
  },
  {
   "cell_type": "code",
   "execution_count": 143,
   "metadata": {},
   "outputs": [
    {
     "data": {
      "text/plain": [
       "DAY_DT              0\n",
       "LOC_INDT            0\n",
       "DBSKU               0\n",
       "ONLINE_FLAG         0\n",
       "FULL_PRICE_IND      0\n",
       "TOTAL_SALES         0\n",
       "TOTAL_UNITS         0\n",
       "TOTAL_SALES_PRFT    0\n",
       "TOTAL_COST          0\n",
       "dtype: int64"
      ]
     },
     "execution_count": 143,
     "metadata": {},
     "output_type": "execute_result"
    }
   ],
   "source": [
    "# Verify that the null records have been dropped:\n",
    "df_transactions.isna().sum()"
   ]
  },
  {
   "cell_type": "markdown",
   "metadata": {},
   "source": [
    "## Ensure proper datatypes of DBSKU"
   ]
  },
  {
   "cell_type": "code",
   "execution_count": 144,
   "metadata": {},
   "outputs": [],
   "source": [
    "# Convert DBSKU to type int64 - since this feature was converted to type int in df_products.\n",
    "df_transactions['DBSKU'] = df_transactions['DBSKU'].astype('int64')"
   ]
  },
  {
   "cell_type": "markdown",
   "metadata": {},
   "source": [
    "## Data Augmentation. Add a \"Holiday\" column to analyze if Sales and Profits are impacted on holidays"
   ]
  },
  {
   "cell_type": "markdown",
   "metadata": {},
   "source": [
    "Determine whether the date (DAY_DT) falls on a holiday - will sales on a holiday have an impact on selling price (and profit)? We will be generating a column called HOLIDAYS that will hold this information for every DAY_DT in the table *df_transactions*:"
   ]
  },
  {
   "cell_type": "code",
   "execution_count": 145,
   "metadata": {},
   "outputs": [],
   "source": [
    "usa_holidays = holidays.UnitedStates()"
   ]
  },
  {
   "cell_type": "code",
   "execution_count": 146,
   "metadata": {},
   "outputs": [
    {
     "data": {
      "application/vnd.jupyter.widget-view+json": {
       "model_id": "8bd3c1ba955e4741b8ef6f804ee4f819",
       "version_major": 2,
       "version_minor": 0
      },
      "text/plain": [
       "HBox(children=(IntProgress(value=0, max=13052345), HTML(value='')))"
      ]
     },
     "metadata": {},
     "output_type": "display_data"
    },
    {
     "name": "stdout",
     "output_type": "stream",
     "text": [
      "\n"
     ]
    }
   ],
   "source": [
    "df_transactions_date_list = df_transactions['DAY_DT'].tolist()\n",
    "df_transactions_date_boolean = []\n",
    "for i in tqdm(df_transactions_date_list):\n",
    "        df_transactions_date_boolean.append(i in usa_holidays)"
   ]
  },
  {
   "cell_type": "code",
   "execution_count": 147,
   "metadata": {},
   "outputs": [],
   "source": [
    "# Append list which has the holiday information to the dataframe df_transactions:\n",
    "df_transactions['HOLIDAY'] = df_transactions_date_boolean"
   ]
  },
  {
   "cell_type": "code",
   "execution_count": 148,
   "metadata": {},
   "outputs": [
    {
     "data": {
      "text/html": [
       "<div>\n",
       "<style scoped>\n",
       "    .dataframe tbody tr th:only-of-type {\n",
       "        vertical-align: middle;\n",
       "    }\n",
       "\n",
       "    .dataframe tbody tr th {\n",
       "        vertical-align: top;\n",
       "    }\n",
       "\n",
       "    .dataframe thead th {\n",
       "        text-align: right;\n",
       "    }\n",
       "</style>\n",
       "<table border=\"1\" class=\"dataframe\">\n",
       "  <thead>\n",
       "    <tr style=\"text-align: right;\">\n",
       "      <th></th>\n",
       "      <th>DAY_DT</th>\n",
       "      <th>LOC_INDT</th>\n",
       "      <th>DBSKU</th>\n",
       "      <th>ONLINE_FLAG</th>\n",
       "      <th>FULL_PRICE_IND</th>\n",
       "      <th>TOTAL_SALES</th>\n",
       "      <th>TOTAL_UNITS</th>\n",
       "      <th>TOTAL_SALES_PRFT</th>\n",
       "      <th>TOTAL_COST</th>\n",
       "      <th>HOLIDAY</th>\n",
       "    </tr>\n",
       "  </thead>\n",
       "  <tbody>\n",
       "    <tr>\n",
       "      <th>13052929</th>\n",
       "      <td>2018-05-28</td>\n",
       "      <td>753</td>\n",
       "      <td>672766</td>\n",
       "      <td>0</td>\n",
       "      <td>NFP</td>\n",
       "      <td>25.49</td>\n",
       "      <td>1.0</td>\n",
       "      <td>5.99</td>\n",
       "      <td>19.5</td>\n",
       "      <td>True</td>\n",
       "    </tr>\n",
       "    <tr>\n",
       "      <th>13052983</th>\n",
       "      <td>2018-07-04</td>\n",
       "      <td>704</td>\n",
       "      <td>718601</td>\n",
       "      <td>0</td>\n",
       "      <td>FP</td>\n",
       "      <td>54.00</td>\n",
       "      <td>1.0</td>\n",
       "      <td>37.00</td>\n",
       "      <td>17.0</td>\n",
       "      <td>True</td>\n",
       "    </tr>\n",
       "    <tr>\n",
       "      <th>13053028</th>\n",
       "      <td>2018-05-28</td>\n",
       "      <td>1330</td>\n",
       "      <td>682609</td>\n",
       "      <td>0</td>\n",
       "      <td>NFP</td>\n",
       "      <td>47.26</td>\n",
       "      <td>1.0</td>\n",
       "      <td>25.26</td>\n",
       "      <td>22.0</td>\n",
       "      <td>True</td>\n",
       "    </tr>\n",
       "    <tr>\n",
       "      <th>13053029</th>\n",
       "      <td>2018-05-28</td>\n",
       "      <td>932</td>\n",
       "      <td>672568</td>\n",
       "      <td>0</td>\n",
       "      <td>NFP</td>\n",
       "      <td>18.81</td>\n",
       "      <td>1.0</td>\n",
       "      <td>5.81</td>\n",
       "      <td>13.0</td>\n",
       "      <td>True</td>\n",
       "    </tr>\n",
       "    <tr>\n",
       "      <th>13053081</th>\n",
       "      <td>2018-05-28</td>\n",
       "      <td>1333</td>\n",
       "      <td>2178673</td>\n",
       "      <td>0</td>\n",
       "      <td>NFP</td>\n",
       "      <td>47.44</td>\n",
       "      <td>1.0</td>\n",
       "      <td>30.44</td>\n",
       "      <td>17.0</td>\n",
       "      <td>True</td>\n",
       "    </tr>\n",
       "  </tbody>\n",
       "</table>\n",
       "</div>"
      ],
      "text/plain": [
       "              DAY_DT  LOC_INDT    DBSKU  ONLINE_FLAG FULL_PRICE_IND  \\\n",
       "13052929  2018-05-28       753   672766            0            NFP   \n",
       "13052983  2018-07-04       704   718601            0             FP   \n",
       "13053028  2018-05-28      1330   682609            0            NFP   \n",
       "13053029  2018-05-28       932   672568            0            NFP   \n",
       "13053081  2018-05-28      1333  2178673            0            NFP   \n",
       "\n",
       "          TOTAL_SALES  TOTAL_UNITS  TOTAL_SALES_PRFT  TOTAL_COST  HOLIDAY  \n",
       "13052929        25.49          1.0              5.99        19.5     True  \n",
       "13052983        54.00          1.0             37.00        17.0     True  \n",
       "13053028        47.26          1.0             25.26        22.0     True  \n",
       "13053029        18.81          1.0              5.81        13.0     True  \n",
       "13053081        47.44          1.0             30.44        17.0     True  "
      ]
     },
     "execution_count": 148,
     "metadata": {},
     "output_type": "execute_result"
    }
   ],
   "source": [
    "# Verify holiday mapping:\n",
    "df_transactions[df_transactions['HOLIDAY'] == True].tail(5)"
   ]
  },
  {
   "cell_type": "code",
   "execution_count": 149,
   "metadata": {},
   "outputs": [],
   "source": [
    "# Convert True and False mappings to 1's and 0's:\n",
    "df_transactions['HOLIDAY'] = df_transactions['HOLIDAY'].astype('int64')"
   ]
  },
  {
   "cell_type": "code",
   "execution_count": 150,
   "metadata": {},
   "outputs": [
    {
     "data": {
      "text/plain": [
       "0    2015-09-26\n",
       "1    2015-08-02\n",
       "2    2015-10-21\n",
       "Name: DAY_DT, dtype: object"
      ]
     },
     "execution_count": 150,
     "metadata": {},
     "output_type": "execute_result"
    }
   ],
   "source": [
    "# Convert DAY_DT to a DATE datatype. Is is an object data type at the moment. \n",
    "df_transactions['DAY_DT'].head(3)"
   ]
  },
  {
   "cell_type": "code",
   "execution_count": 151,
   "metadata": {},
   "outputs": [],
   "source": [
    "# Convert to DATE data type:\n",
    "df_transactions['DAY_DT']=pd.to_datetime(df_transactions['DAY_DT'])"
   ]
  },
  {
   "cell_type": "code",
   "execution_count": 152,
   "metadata": {},
   "outputs": [],
   "source": [
    "# Now using the DAY_DT column, extract the month of the transaction:\n",
    "df_transactions['MONTH'] = pd.DatetimeIndex(df_transactions['DAY_DT']).month"
   ]
  },
  {
   "cell_type": "markdown",
   "metadata": {},
   "source": [
    "## Data Augmentation - add \"Season\" column to enable analysis of impact of Season on Sales/Profit - given it is womens apparel business"
   ]
  },
  {
   "cell_type": "code",
   "execution_count": null,
   "metadata": {},
   "outputs": [
    {
     "data": {
      "application/vnd.jupyter.widget-view+json": {
       "model_id": "dcf4e7673c824f4180245e85d0bad69f",
       "version_major": 2,
       "version_minor": 0
      },
      "text/plain": [
       "HBox(children=(IntProgress(value=1, bar_style='info', max=1), HTML(value='')))"
      ]
     },
     "metadata": {},
     "output_type": "display_data"
    }
   ],
   "source": [
    "# Determine the SEASON based on the month column:\n",
    "# 1 = Winter (Months 12, 1, 2)\n",
    "# 2 = Spring (Months 3, 4, 5)\n",
    "# 3 = Summer (Months 6, 7, 8)\n",
    "# 4 = Fall (Months 9, 10, 11)\n",
    "# The logic below takes almost 30mins to run. Consider using lambda function to reduce execution time\n",
    "for index, row in tqdm(df_transactions.iterrows()):\n",
    "    if   ((row['MONTH'] == 12) or (row['MONTH'] == 1) or (row['MONTH'] == 2)):\n",
    "        df_transactions.at[index,'SEASON'] = '1' # Winter\n",
    "    elif ((row['MONTH'] == 3) or (row['MONTH'] == 4) or (row['MONTH'] == 5)):\n",
    "        df_transactions.at[index,'SEASON'] = '2' # Spring\n",
    "    elif ((row['MONTH'] == 6) or (row['MONTH'] == 7) or (row['MONTH'] == 8)):\n",
    "        df_transactions.at[index,'SEASON'] = '3' # Summer\n",
    "    else:\n",
    "        df_transactions.at[index,'SEASON'] = '4' # Fall"
   ]
  },
  {
   "cell_type": "code",
   "execution_count": 72,
   "metadata": {},
   "outputs": [
    {
     "data": {
      "text/html": [
       "<div>\n",
       "<style scoped>\n",
       "    .dataframe tbody tr th:only-of-type {\n",
       "        vertical-align: middle;\n",
       "    }\n",
       "\n",
       "    .dataframe tbody tr th {\n",
       "        vertical-align: top;\n",
       "    }\n",
       "\n",
       "    .dataframe thead th {\n",
       "        text-align: right;\n",
       "    }\n",
       "</style>\n",
       "<table border=\"1\" class=\"dataframe\">\n",
       "  <thead>\n",
       "    <tr style=\"text-align: right;\">\n",
       "      <th></th>\n",
       "      <th>DAY_DT</th>\n",
       "      <th>LOC_INDT</th>\n",
       "      <th>DBSKU</th>\n",
       "      <th>ONLINE_FLAG</th>\n",
       "      <th>FULL_PRICE_IND</th>\n",
       "      <th>TOTAL_SALES</th>\n",
       "      <th>TOTAL_UNITS</th>\n",
       "      <th>TOTAL_SALES_PRFT</th>\n",
       "      <th>TOTAL_COST</th>\n",
       "      <th>HOLIDAY</th>\n",
       "      <th>MONTH</th>\n",
       "      <th>SEASON</th>\n",
       "    </tr>\n",
       "  </thead>\n",
       "  <tbody>\n",
       "    <tr>\n",
       "      <th>8159878</th>\n",
       "      <td>2017-06-14</td>\n",
       "      <td>520</td>\n",
       "      <td>626846</td>\n",
       "      <td>0</td>\n",
       "      <td>FP</td>\n",
       "      <td>44.0</td>\n",
       "      <td>1.0</td>\n",
       "      <td>29.25</td>\n",
       "      <td>14.75</td>\n",
       "      <td>0</td>\n",
       "      <td>6</td>\n",
       "      <td>3</td>\n",
       "    </tr>\n",
       "  </tbody>\n",
       "</table>\n",
       "</div>"
      ],
      "text/plain": [
       "            DAY_DT  LOC_INDT   DBSKU  ONLINE_FLAG FULL_PRICE_IND  TOTAL_SALES  \\\n",
       "8159878 2017-06-14       520  626846            0             FP         44.0   \n",
       "\n",
       "         TOTAL_UNITS  TOTAL_SALES_PRFT  TOTAL_COST  HOLIDAY  MONTH SEASON  \n",
       "8159878          1.0             29.25       14.75        0      6      3  "
      ]
     },
     "execution_count": 72,
     "metadata": {},
     "output_type": "execute_result"
    }
   ],
   "source": [
    "# Verify these new columns:\n",
    "df_transactions.head(3)"
   ]
  },
  {
   "cell_type": "markdown",
   "metadata": {},
   "source": [
    "## Unit Sale Price, Cost Price and Profit Per Unit will be used for analysis. Add those columns"
   ]
  },
  {
   "cell_type": "code",
   "execution_count": 73,
   "metadata": {},
   "outputs": [],
   "source": [
    "# Determine UNIT_COST_PRICE = TOTAL COST PRICE OF SALE DIVIDED BY TOTAL UNITS SOLD:\n",
    "df_transactions['UNIT_COST_PRICE'] = (df_transactions['TOTAL_COST']/df_transactions['TOTAL_UNITS']).round(2)"
   ]
  },
  {
   "cell_type": "code",
   "execution_count": 74,
   "metadata": {},
   "outputs": [],
   "source": [
    "# Determine UNIT_SELLING_PRICE = TOTAL SELLING PRICE OF SALE DIVIDED BY TOTAL UNITS SOLD:\n",
    "df_transactions['UNIT_SELLING_PRICE'] = (df_transactions['TOTAL_SALES']/df_transactions['TOTAL_UNITS']).round(2)"
   ]
  },
  {
   "cell_type": "code",
   "execution_count": 75,
   "metadata": {},
   "outputs": [],
   "source": [
    "# Determine PROFIT_PER_UNIT = UNIT SELLING PRICE - UNIT COST PRICE:\n",
    "df_transactions['PROFIT_PER_UNIT'] = (df_transactions['UNIT_SELLING_PRICE'] - df_transactions['UNIT_COST_PRICE']).round(2)"
   ]
  },
  {
   "cell_type": "code",
   "execution_count": 76,
   "metadata": {},
   "outputs": [],
   "source": [
    "# For better clarity rename column TOTAL UNITS to TOTAL_UNITS_SOLD:\n",
    "df_transactions = df_transactions.rename(columns={\"TOTAL_UNITS\": \"TOTAL_UNITS_SOLD\"})"
   ]
  },
  {
   "cell_type": "code",
   "execution_count": 77,
   "metadata": {},
   "outputs": [],
   "source": [
    "# Column FULL_PRICE_INDC has 2 values - NFP and FP - \n",
    "# determines whether goods were sold at full price or not - map these NFP and FP values as 0's and 1's respectively:\n",
    "df_transactions['FULL_PRICE_INDC'] = df_transactions['FULL_PRICE_IND'].apply(lambda x: 0 if x == 'NFP' else 1)"
   ]
  },
  {
   "cell_type": "code",
   "execution_count": 78,
   "metadata": {},
   "outputs": [],
   "source": [
    "# Drop FULL_PRICE_IND and rename the new column FULL_PRICE_INDC as FULL_PRIC_IND\n",
    "df_transactions = df_transactions.drop(['FULL_PRICE_IND'], axis=1)\n",
    "df_transactions = df_transactions.rename(columns={\"FULL_PRICE_INDC\": \"FULL_PRICE_IND\"})"
   ]
  },
  {
   "cell_type": "markdown",
   "metadata": {},
   "source": [
    "## Sales and Units Sold cannot be < 0. Drop rows with invalid values"
   ]
  },
  {
   "cell_type": "code",
   "execution_count": 79,
   "metadata": {},
   "outputs": [],
   "source": [
    "# Modeling will be carried out only for transactions where TOTAL_SALES or TOTAL_UNITS_SOLD or\n",
    "# TOTAL_COST is greater than 0 - so remove records where that is not the case:\n",
    "df_transactions.drop(df_transactions[(df_transactions['TOTAL_SALES']<=0.0) |\n",
    "                                     (df_transactions['TOTAL_UNITS_SOLD']<=0.0) | \n",
    "                                     (df_transactions['TOTAL_COST'] <= 0.0)].index , inplace=True)"
   ]
  },
  {
   "cell_type": "code",
   "execution_count": 80,
   "metadata": {},
   "outputs": [
    {
     "data": {
      "text/plain": [
       "1    1\n",
       "Name: FULL_PRICE_IND, dtype: int64"
      ]
     },
     "execution_count": 80,
     "metadata": {},
     "output_type": "execute_result"
    }
   ],
   "source": [
    "df_transactions['FULL_PRICE_IND'].value_counts()"
   ]
  },
  {
   "cell_type": "code",
   "execution_count": 81,
   "metadata": {},
   "outputs": [
    {
     "data": {
      "text/plain": [
       "dtype('int64')"
      ]
     },
     "execution_count": 81,
     "metadata": {},
     "output_type": "execute_result"
    }
   ],
   "source": [
    "df_transactions['FULL_PRICE_IND'].dtype"
   ]
  },
  {
   "cell_type": "markdown",
   "metadata": {},
   "source": [
    "  FULL_PRICE_IND is of correct type int64"
   ]
  },
  {
   "cell_type": "markdown",
   "metadata": {},
   "source": [
    "## Save the cleaned up transactions data"
   ]
  },
  {
   "cell_type": "code",
   "execution_count": 82,
   "metadata": {},
   "outputs": [],
   "source": [
    "# Export the dataset as df_transactions_clean.csv:\n",
    "df_transactions.to_csv('df_transactions_full_clean.csv', index=False)"
   ]
  },
  {
   "cell_type": "code",
   "execution_count": null,
   "metadata": {},
   "outputs": [],
   "source": []
  }
 ],
 "metadata": {
  "file_extension": ".py",
  "kernelspec": {
   "display_name": "Python 3",
   "language": "python",
   "name": "python3"
  },
  "language_info": {
   "codemirror_mode": {
    "name": "ipython",
    "version": 3
   },
   "file_extension": ".py",
   "mimetype": "text/x-python",
   "name": "python",
   "nbconvert_exporter": "python",
   "pygments_lexer": "ipython3",
   "version": "3.7.1"
  },
  "mimetype": "text/x-python",
  "name": "python",
  "npconvert_exporter": "python",
  "pygments_lexer": "ipython3",
  "version": 3
 },
 "nbformat": 4,
 "nbformat_minor": 2
}
