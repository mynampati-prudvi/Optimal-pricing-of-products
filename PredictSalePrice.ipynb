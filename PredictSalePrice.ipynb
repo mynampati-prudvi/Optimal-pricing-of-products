{
 "cells": [
  {
   "cell_type": "code",
   "execution_count": 2,
   "metadata": {},
   "outputs": [],
   "source": [
    "import os \n",
    "import pandas                as pd\n",
    "import numpy                 as np\n",
    "import statsmodels.api       as sm\n",
    "import pickle\n",
    "from sklearn.metrics         import mean_absolute_error, mean_squared_error, r2_score"
   ]
  },
  {
   "cell_type": "code",
   "execution_count": 3,
   "metadata": {},
   "outputs": [],
   "source": [
    "full_70_model = pickle.load(open('rfmodel_full_70', 'rb'))"
   ]
  },
  {
   "cell_type": "code",
   "execution_count": 4,
   "metadata": {},
   "outputs": [],
   "source": [
    "test_df = pd.read_pickle('testdf')"
   ]
  },
  {
   "cell_type": "code",
   "execution_count": 5,
   "metadata": {},
   "outputs": [],
   "source": [
    "Y_pred = full_70_model.predict(test_df)"
   ]
  },
  {
   "cell_type": "code",
   "execution_count": 6,
   "metadata": {},
   "outputs": [
    {
     "data": {
      "text/plain": [
       "array([35.43552759, 27.78926568, 30.81430063, 41.8957536 , 22.67646889,\n",
       "       28.62932495, 29.20043246, 43.86326093, 42.89174086, 55.79417494,\n",
       "       34.91004735, 39.89956661, 17.23448244, 30.87584928, 34.16829368,\n",
       "       26.77947864, 49.06160894, 38.60116535, 37.29865127, 28.93878448,\n",
       "       43.86326093, 48.14550367, 52.0560658 , 45.53385633, 27.99066193,\n",
       "       27.42333433, 45.82707153, 34.52756222, 27.52138882, 17.62855218,\n",
       "       27.60981689, 43.09313751, 23.09595664, 59.20557399, 53.17199109,\n",
       "       27.60981689, 53.48699133, 25.08482983, 47.27824548, 45.38262622,\n",
       "       35.53096525, 33.86313717, 42.62049386, 28.93878448, 28.82365519,\n",
       "       37.72382129, 35.37392835, 30.0203042 , 75.76497548, 30.0181754 ])"
      ]
     },
     "execution_count": 6,
     "metadata": {},
     "output_type": "execute_result"
    }
   ],
   "source": [
    "Y_pred"
   ]
  },
  {
   "cell_type": "code",
   "execution_count": 7,
   "metadata": {},
   "outputs": [],
   "source": [
    "profit_gt_10_model = pickle.load(open('rfmodel_profits_gt_10', 'rb'))"
   ]
  },
  {
   "cell_type": "code",
   "execution_count": 10,
   "metadata": {},
   "outputs": [],
   "source": [
    "Y_pred2 = profit_gt_10_model.predict(test_df)"
   ]
  },
  {
   "cell_type": "code",
   "execution_count": 11,
   "metadata": {},
   "outputs": [
    {
     "data": {
      "text/plain": [
       "array([36.01237479, 28.07179932, 30.07886881, 44.33716402, 24.93714894,\n",
       "       32.02957806, 31.29855179, 44.00501648, 42.88621796, 55.07826485,\n",
       "       36.91097278, 42.67297488, 28.77750642, 38.82676137, 35.77632968,\n",
       "       28.41201082, 48.35225275, 40.35008042, 40.33838904, 30.41465369,\n",
       "       44.00861492, 48.55443479, 51.71576372, 45.05858765, 28.63166304,\n",
       "       28.77075583, 44.79616801, 39.32353356, 35.21133308, 30.25382815,\n",
       "       29.65104253, 43.29780015, 19.10168635, 56.32392844, 52.51866835,\n",
       "       29.46484025, 54.03471613, 30.25357004, 48.33771658, 47.46365854,\n",
       "       43.32845109, 36.58344426, 44.09966474, 30.95670691, 29.45531149,\n",
       "       37.77679178, 38.40800717, 36.28882787, 77.6915808 , 29.51120831])"
      ]
     },
     "execution_count": 11,
     "metadata": {},
     "output_type": "execute_result"
    }
   ],
   "source": [
    "Y_pred2"
   ]
  },
  {
   "cell_type": "code",
   "execution_count": null,
   "metadata": {},
   "outputs": [],
   "source": []
  }
 ],
 "metadata": {
  "kernelspec": {
   "display_name": "Python 3",
   "language": "python",
   "name": "python3"
  },
  "language_info": {
   "codemirror_mode": {
    "name": "ipython",
    "version": 3
   },
   "file_extension": ".py",
   "mimetype": "text/x-python",
   "name": "python",
   "nbconvert_exporter": "python",
   "pygments_lexer": "ipython3",
   "version": "3.7.1"
  }
 },
 "nbformat": 4,
 "nbformat_minor": 2
}
