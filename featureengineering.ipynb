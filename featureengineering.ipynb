{
 "cells": [
  {
   "cell_type": "markdown",
   "metadata": {},
   "source": [
    "# Feature Engineering "
   ]
  },
  {
   "cell_type": "code",
   "execution_count": 1,
   "metadata": {},
   "outputs": [],
   "source": [
    "import pandas as pd\n",
    "import numpy as np\n",
    "import os\n",
    "import seaborn as sns\n",
    "import matplotlib.pylab as plt"
   ]
  },
  {
   "cell_type": "code",
   "execution_count": 2,
   "metadata": {},
   "outputs": [
    {
     "data": {
      "text/plain": [
       "'C:\\\\Users\\\\vijay.agrawal\\\\Final Project'"
      ]
     },
     "execution_count": 2,
     "metadata": {},
     "output_type": "execute_result"
    }
   ],
   "source": [
    "os.getcwd()"
   ]
  },
  {
   "cell_type": "markdown",
   "metadata": {},
   "source": [
    " # Data Preparation for Modeling\n",
    " \n",
    " ### Some of the columns might have to be dropped at this stage before running the model. This will be carried out in the subsequent steps:"
   ]
  },
  {
   "cell_type": "code",
   "execution_count": 3,
   "metadata": {},
   "outputs": [],
   "source": [
    "# Read the file that was generated from the data cleanup and data exploratory stages:\n",
    "df_final=pd.read_csv(\"transactions_full_merged.csv\")"
   ]
  },
  {
   "cell_type": "code",
   "execution_count": 4,
   "metadata": {},
   "outputs": [
    {
     "data": {
      "text/plain": [
       "['DAY_DT',\n",
       " 'LOC_INDT',\n",
       " 'DBSKU',\n",
       " 'ONLINE_FLAG',\n",
       " 'TOTAL_SALES',\n",
       " 'TOTAL_UNITS_SOLD',\n",
       " 'TOTAL_SALES_PRFT',\n",
       " 'TOTAL_COST',\n",
       " 'HOLIDAY',\n",
       " 'MONTH',\n",
       " 'SEASON',\n",
       " 'UNIT_COST_PRICE',\n",
       " 'UNIT_SELLING_PRICE',\n",
       " 'PROFIT_PER_UNIT',\n",
       " 'FULL_PRICE_IND',\n",
       " 'DEPARTMENT',\n",
       " 'PRODUCT_CLASS',\n",
       " 'LOC_INDT_SEQ',\n",
       " 'CITY',\n",
       " 'STATE',\n",
       " 'POSTAL_CD',\n",
       " 'STORE_SIZE',\n",
       " 'STORE_TYPE_MALL',\n",
       " 'STORE_TYPE_STRIP',\n",
       " 'STORE_TYPE_OTHER',\n",
       " 'STATE_NAME',\n",
       " 'MEDIAN_HOUSEHLD_INCOME',\n",
       " 'PCNT_WOMEN_EMPLOYED',\n",
       " 'MEDIAN_HOUSEHLD_INCOME_BINS']"
      ]
     },
     "execution_count": 4,
     "metadata": {},
     "output_type": "execute_result"
    }
   ],
   "source": [
    "# Determine the columns in our dataset:\n",
    "df_final.columns.tolist()"
   ]
  },
  {
   "cell_type": "markdown",
   "metadata": {},
   "source": [
    " # Target variable is UNIT_SELLING_PRICE\n",
    " \n",
    " ## The features that are of interest for modelling are as follows:\n",
    " ### \n",
    " \n",
    "ONLINE_FLAG                        \n",
    "FULL_PRICE_IND                     \n",
    "UNIT_COST_PRICE   \n",
    "*UNIT_SELLING_PRICE* [*target*]     \n",
    "TOTAL_UNITS_SOLD \n",
    "HOLIDAY                            \n",
    "DEPARTMENT                         \n",
    "LOC_INDT_SEQ                       \n",
    "STORE_SIZE                         \n",
    "STORE_TYPE_MALL                    \n",
    "STORE_TYPE_STRIP                   \n",
    "STORE_TYPE_OTHER                   \n",
    "PCNT_WOMEN_EMPLOYED                \n",
    "MEDIAN_HOUSEHLD_INCOME_BINS    \n",
    "SEASON                                                          \n",
    "PRODUCT_CLASS\n",
    "\n",
    " ## The features that are NOT of interest for modelling are as follows:\n",
    " ###\n",
    "\n",
    "DAY_DT   \n",
    "LOC_INDT   \n",
    "DBSKU    \n",
    "PROFIT_PER_UNIT    \n",
    "TOTAL_COST    \n",
    "TOTAL_SALES    \n",
    "TOTAL_SALES_PRFT    \n",
    "MONTH    \n",
    "CITY     \n",
    "STATE    \n",
    "POSTAL_CD    \n",
    "STATE_NAME    \n",
    "MEDIAN_HOUSEHLD_INCOME    "
   ]
  },
  {
   "cell_type": "markdown",
   "metadata": {},
   "source": [
    " ## Drop the columns that are not required for modeling:"
   ]
  },
  {
   "cell_type": "code",
   "execution_count": 5,
   "metadata": {},
   "outputs": [],
   "source": [
    "df_final = df_final.drop(['DAY_DT', \n",
    "                          'LOC_INDT',\n",
    "                          'TOTAL_SALES', \n",
    "                          'TOTAL_COST', \n",
    "                          'PROFIT_PER_UNIT', \n",
    "                          'TOTAL_SALES_PRFT', \n",
    "                          'MONTH', \n",
    "                          'CITY', 'STATE', 'POSTAL_CD', 'STATE_NAME', 'MEDIAN_HOUSEHLD_INCOME'], axis=1)"
   ]
  },
  {
   "cell_type": "code",
   "execution_count": 6,
   "metadata": {},
   "outputs": [
    {
     "data": {
      "text/html": [
       "<div>\n",
       "<style scoped>\n",
       "    .dataframe tbody tr th:only-of-type {\n",
       "        vertical-align: middle;\n",
       "    }\n",
       "\n",
       "    .dataframe tbody tr th {\n",
       "        vertical-align: top;\n",
       "    }\n",
       "\n",
       "    .dataframe thead th {\n",
       "        text-align: right;\n",
       "    }\n",
       "</style>\n",
       "<table border=\"1\" class=\"dataframe\">\n",
       "  <thead>\n",
       "    <tr style=\"text-align: right;\">\n",
       "      <th></th>\n",
       "      <th>DBSKU</th>\n",
       "      <th>ONLINE_FLAG</th>\n",
       "      <th>TOTAL_UNITS_SOLD</th>\n",
       "      <th>HOLIDAY</th>\n",
       "      <th>SEASON</th>\n",
       "      <th>UNIT_COST_PRICE</th>\n",
       "      <th>UNIT_SELLING_PRICE</th>\n",
       "      <th>FULL_PRICE_IND</th>\n",
       "      <th>DEPARTMENT</th>\n",
       "      <th>PRODUCT_CLASS</th>\n",
       "      <th>LOC_INDT_SEQ</th>\n",
       "      <th>STORE_SIZE</th>\n",
       "      <th>STORE_TYPE_MALL</th>\n",
       "      <th>STORE_TYPE_STRIP</th>\n",
       "      <th>STORE_TYPE_OTHER</th>\n",
       "      <th>PCNT_WOMEN_EMPLOYED</th>\n",
       "      <th>MEDIAN_HOUSEHLD_INCOME_BINS</th>\n",
       "    </tr>\n",
       "  </thead>\n",
       "  <tbody>\n",
       "    <tr>\n",
       "      <th>0</th>\n",
       "      <td>466896</td>\n",
       "      <td>0</td>\n",
       "      <td>1.0</td>\n",
       "      <td>0</td>\n",
       "      <td>4</td>\n",
       "      <td>15.5</td>\n",
       "      <td>16.8</td>\n",
       "      <td>0</td>\n",
       "      <td>10</td>\n",
       "      <td>10_31</td>\n",
       "      <td>1027</td>\n",
       "      <td>3100</td>\n",
       "      <td>0</td>\n",
       "      <td>0</td>\n",
       "      <td>1</td>\n",
       "      <td>0.57</td>\n",
       "      <td>2</td>\n",
       "    </tr>\n",
       "    <tr>\n",
       "      <th>1</th>\n",
       "      <td>466896</td>\n",
       "      <td>0</td>\n",
       "      <td>2.0</td>\n",
       "      <td>0</td>\n",
       "      <td>3</td>\n",
       "      <td>15.5</td>\n",
       "      <td>16.8</td>\n",
       "      <td>0</td>\n",
       "      <td>10</td>\n",
       "      <td>10_31</td>\n",
       "      <td>1027</td>\n",
       "      <td>3100</td>\n",
       "      <td>0</td>\n",
       "      <td>0</td>\n",
       "      <td>1</td>\n",
       "      <td>0.57</td>\n",
       "      <td>2</td>\n",
       "    </tr>\n",
       "    <tr>\n",
       "      <th>2</th>\n",
       "      <td>466896</td>\n",
       "      <td>0</td>\n",
       "      <td>1.0</td>\n",
       "      <td>0</td>\n",
       "      <td>4</td>\n",
       "      <td>15.5</td>\n",
       "      <td>21.0</td>\n",
       "      <td>0</td>\n",
       "      <td>10</td>\n",
       "      <td>10_31</td>\n",
       "      <td>1027</td>\n",
       "      <td>3100</td>\n",
       "      <td>0</td>\n",
       "      <td>0</td>\n",
       "      <td>1</td>\n",
       "      <td>0.57</td>\n",
       "      <td>2</td>\n",
       "    </tr>\n",
       "  </tbody>\n",
       "</table>\n",
       "</div>"
      ],
      "text/plain": [
       "    DBSKU  ONLINE_FLAG  TOTAL_UNITS_SOLD  HOLIDAY  SEASON  UNIT_COST_PRICE  \\\n",
       "0  466896            0               1.0        0       4             15.5   \n",
       "1  466896            0               2.0        0       3             15.5   \n",
       "2  466896            0               1.0        0       4             15.5   \n",
       "\n",
       "   UNIT_SELLING_PRICE  FULL_PRICE_IND  DEPARTMENT PRODUCT_CLASS  LOC_INDT_SEQ  \\\n",
       "0                16.8               0          10         10_31          1027   \n",
       "1                16.8               0          10         10_31          1027   \n",
       "2                21.0               0          10         10_31          1027   \n",
       "\n",
       "   STORE_SIZE  STORE_TYPE_MALL  STORE_TYPE_STRIP  STORE_TYPE_OTHER  \\\n",
       "0        3100                0                 0                 1   \n",
       "1        3100                0                 0                 1   \n",
       "2        3100                0                 0                 1   \n",
       "\n",
       "   PCNT_WOMEN_EMPLOYED  MEDIAN_HOUSEHLD_INCOME_BINS  \n",
       "0                 0.57                            2  \n",
       "1                 0.57                            2  \n",
       "2                 0.57                            2  "
      ]
     },
     "execution_count": 6,
     "metadata": {},
     "output_type": "execute_result"
    }
   ],
   "source": [
    "# Verify that the columns have been dropped:\n",
    "df_final.head(3)"
   ]
  },
  {
   "cell_type": "markdown",
   "metadata": {},
   "source": [
    "# Feature Engineering - for Linear Regression:"
   ]
  },
  {
   "cell_type": "markdown",
   "metadata": {},
   "source": [
    " ## One Hot encoding - create dummy variables:"
   ]
  },
  {
   "cell_type": "code",
   "execution_count": 7,
   "metadata": {},
   "outputs": [],
   "source": [
    "# We will call the final output file as df_final_lr for linear regression:\n",
    "df_final_lr = df_final.copy()"
   ]
  },
  {
   "cell_type": "code",
   "execution_count": 8,
   "metadata": {},
   "outputs": [
    {
     "data": {
      "text/html": [
       "<div>\n",
       "<style scoped>\n",
       "    .dataframe tbody tr th:only-of-type {\n",
       "        vertical-align: middle;\n",
       "    }\n",
       "\n",
       "    .dataframe tbody tr th {\n",
       "        vertical-align: top;\n",
       "    }\n",
       "\n",
       "    .dataframe thead th {\n",
       "        text-align: right;\n",
       "    }\n",
       "</style>\n",
       "<table border=\"1\" class=\"dataframe\">\n",
       "  <thead>\n",
       "    <tr style=\"text-align: right;\">\n",
       "      <th></th>\n",
       "      <th>DBSKU</th>\n",
       "      <th>ONLINE_FLAG</th>\n",
       "      <th>TOTAL_UNITS_SOLD</th>\n",
       "      <th>HOLIDAY</th>\n",
       "      <th>SEASON</th>\n",
       "      <th>UNIT_COST_PRICE</th>\n",
       "      <th>UNIT_SELLING_PRICE</th>\n",
       "      <th>FULL_PRICE_IND</th>\n",
       "      <th>DEPARTMENT</th>\n",
       "      <th>PRODUCT_CLASS</th>\n",
       "      <th>LOC_INDT_SEQ</th>\n",
       "      <th>STORE_SIZE</th>\n",
       "      <th>STORE_TYPE_MALL</th>\n",
       "      <th>STORE_TYPE_STRIP</th>\n",
       "      <th>STORE_TYPE_OTHER</th>\n",
       "      <th>PCNT_WOMEN_EMPLOYED</th>\n",
       "      <th>MEDIAN_HOUSEHLD_INCOME_BINS</th>\n",
       "    </tr>\n",
       "  </thead>\n",
       "  <tbody>\n",
       "    <tr>\n",
       "      <th>0</th>\n",
       "      <td>466896</td>\n",
       "      <td>0</td>\n",
       "      <td>1.0</td>\n",
       "      <td>0</td>\n",
       "      <td>4</td>\n",
       "      <td>15.5</td>\n",
       "      <td>16.8</td>\n",
       "      <td>0</td>\n",
       "      <td>10</td>\n",
       "      <td>10_31</td>\n",
       "      <td>1027</td>\n",
       "      <td>3100</td>\n",
       "      <td>0</td>\n",
       "      <td>0</td>\n",
       "      <td>1</td>\n",
       "      <td>0.57</td>\n",
       "      <td>2</td>\n",
       "    </tr>\n",
       "    <tr>\n",
       "      <th>1</th>\n",
       "      <td>466896</td>\n",
       "      <td>0</td>\n",
       "      <td>2.0</td>\n",
       "      <td>0</td>\n",
       "      <td>3</td>\n",
       "      <td>15.5</td>\n",
       "      <td>16.8</td>\n",
       "      <td>0</td>\n",
       "      <td>10</td>\n",
       "      <td>10_31</td>\n",
       "      <td>1027</td>\n",
       "      <td>3100</td>\n",
       "      <td>0</td>\n",
       "      <td>0</td>\n",
       "      <td>1</td>\n",
       "      <td>0.57</td>\n",
       "      <td>2</td>\n",
       "    </tr>\n",
       "    <tr>\n",
       "      <th>2</th>\n",
       "      <td>466896</td>\n",
       "      <td>0</td>\n",
       "      <td>1.0</td>\n",
       "      <td>0</td>\n",
       "      <td>4</td>\n",
       "      <td>15.5</td>\n",
       "      <td>21.0</td>\n",
       "      <td>0</td>\n",
       "      <td>10</td>\n",
       "      <td>10_31</td>\n",
       "      <td>1027</td>\n",
       "      <td>3100</td>\n",
       "      <td>0</td>\n",
       "      <td>0</td>\n",
       "      <td>1</td>\n",
       "      <td>0.57</td>\n",
       "      <td>2</td>\n",
       "    </tr>\n",
       "  </tbody>\n",
       "</table>\n",
       "</div>"
      ],
      "text/plain": [
       "    DBSKU  ONLINE_FLAG  TOTAL_UNITS_SOLD  HOLIDAY  SEASON  UNIT_COST_PRICE  \\\n",
       "0  466896            0               1.0        0       4             15.5   \n",
       "1  466896            0               2.0        0       3             15.5   \n",
       "2  466896            0               1.0        0       4             15.5   \n",
       "\n",
       "   UNIT_SELLING_PRICE  FULL_PRICE_IND  DEPARTMENT PRODUCT_CLASS  LOC_INDT_SEQ  \\\n",
       "0                16.8               0          10         10_31          1027   \n",
       "1                16.8               0          10         10_31          1027   \n",
       "2                21.0               0          10         10_31          1027   \n",
       "\n",
       "   STORE_SIZE  STORE_TYPE_MALL  STORE_TYPE_STRIP  STORE_TYPE_OTHER  \\\n",
       "0        3100                0                 0                 1   \n",
       "1        3100                0                 0                 1   \n",
       "2        3100                0                 0                 1   \n",
       "\n",
       "   PCNT_WOMEN_EMPLOYED  MEDIAN_HOUSEHLD_INCOME_BINS  \n",
       "0                 0.57                            2  \n",
       "1                 0.57                            2  \n",
       "2                 0.57                            2  "
      ]
     },
     "execution_count": 8,
     "metadata": {},
     "output_type": "execute_result"
    }
   ],
   "source": [
    "# verify that the files have been copied to df_final_lr:\n",
    "df_final_lr.head(3)"
   ]
  },
  {
   "cell_type": "code",
   "execution_count": 9,
   "metadata": {},
   "outputs": [],
   "source": [
    "# One Hot encode the season feature:\n",
    "df_final_lr = pd.get_dummies(df_final_lr,columns=['SEASON'])"
   ]
  },
  {
   "cell_type": "code",
   "execution_count": 10,
   "metadata": {},
   "outputs": [],
   "source": [
    "# One Hot encode the department feature:\n",
    "df_final_lr = pd.get_dummies(df_final_lr,columns=['DEPARTMENT'])"
   ]
  },
  {
   "cell_type": "code",
   "execution_count": 11,
   "metadata": {},
   "outputs": [],
   "source": [
    "# One Hot encode the product class feature:\n",
    "df_final_lr = pd.get_dummies(df_final_lr,columns=['PRODUCT_CLASS'])"
   ]
  },
  {
   "cell_type": "code",
   "execution_count": 12,
   "metadata": {},
   "outputs": [
    {
     "data": {
      "text/html": [
       "<div>\n",
       "<style scoped>\n",
       "    .dataframe tbody tr th:only-of-type {\n",
       "        vertical-align: middle;\n",
       "    }\n",
       "\n",
       "    .dataframe tbody tr th {\n",
       "        vertical-align: top;\n",
       "    }\n",
       "\n",
       "    .dataframe thead th {\n",
       "        text-align: right;\n",
       "    }\n",
       "</style>\n",
       "<table border=\"1\" class=\"dataframe\">\n",
       "  <thead>\n",
       "    <tr style=\"text-align: right;\">\n",
       "      <th></th>\n",
       "      <th>DBSKU</th>\n",
       "      <th>ONLINE_FLAG</th>\n",
       "      <th>TOTAL_UNITS_SOLD</th>\n",
       "      <th>HOLIDAY</th>\n",
       "      <th>UNIT_COST_PRICE</th>\n",
       "      <th>UNIT_SELLING_PRICE</th>\n",
       "      <th>FULL_PRICE_IND</th>\n",
       "      <th>LOC_INDT_SEQ</th>\n",
       "      <th>STORE_SIZE</th>\n",
       "      <th>STORE_TYPE_MALL</th>\n",
       "      <th>...</th>\n",
       "      <th>PRODUCT_CLASS_12_32</th>\n",
       "      <th>PRODUCT_CLASS_12_40</th>\n",
       "      <th>PRODUCT_CLASS_12_41</th>\n",
       "      <th>PRODUCT_CLASS_12_42</th>\n",
       "      <th>PRODUCT_CLASS_12_5</th>\n",
       "      <th>PRODUCT_CLASS_12_50</th>\n",
       "      <th>PRODUCT_CLASS_12_51</th>\n",
       "      <th>PRODUCT_CLASS_12_52</th>\n",
       "      <th>PRODUCT_CLASS_12_6</th>\n",
       "      <th>PRODUCT_CLASS_12_99</th>\n",
       "    </tr>\n",
       "  </thead>\n",
       "  <tbody>\n",
       "    <tr>\n",
       "      <th>0</th>\n",
       "      <td>466896</td>\n",
       "      <td>0</td>\n",
       "      <td>1.0</td>\n",
       "      <td>0</td>\n",
       "      <td>15.5</td>\n",
       "      <td>16.8</td>\n",
       "      <td>0</td>\n",
       "      <td>1027</td>\n",
       "      <td>3100</td>\n",
       "      <td>0</td>\n",
       "      <td>...</td>\n",
       "      <td>0</td>\n",
       "      <td>0</td>\n",
       "      <td>0</td>\n",
       "      <td>0</td>\n",
       "      <td>0</td>\n",
       "      <td>0</td>\n",
       "      <td>0</td>\n",
       "      <td>0</td>\n",
       "      <td>0</td>\n",
       "      <td>0</td>\n",
       "    </tr>\n",
       "    <tr>\n",
       "      <th>1</th>\n",
       "      <td>466896</td>\n",
       "      <td>0</td>\n",
       "      <td>2.0</td>\n",
       "      <td>0</td>\n",
       "      <td>15.5</td>\n",
       "      <td>16.8</td>\n",
       "      <td>0</td>\n",
       "      <td>1027</td>\n",
       "      <td>3100</td>\n",
       "      <td>0</td>\n",
       "      <td>...</td>\n",
       "      <td>0</td>\n",
       "      <td>0</td>\n",
       "      <td>0</td>\n",
       "      <td>0</td>\n",
       "      <td>0</td>\n",
       "      <td>0</td>\n",
       "      <td>0</td>\n",
       "      <td>0</td>\n",
       "      <td>0</td>\n",
       "      <td>0</td>\n",
       "    </tr>\n",
       "    <tr>\n",
       "      <th>2</th>\n",
       "      <td>466896</td>\n",
       "      <td>0</td>\n",
       "      <td>1.0</td>\n",
       "      <td>0</td>\n",
       "      <td>15.5</td>\n",
       "      <td>21.0</td>\n",
       "      <td>0</td>\n",
       "      <td>1027</td>\n",
       "      <td>3100</td>\n",
       "      <td>0</td>\n",
       "      <td>...</td>\n",
       "      <td>0</td>\n",
       "      <td>0</td>\n",
       "      <td>0</td>\n",
       "      <td>0</td>\n",
       "      <td>0</td>\n",
       "      <td>0</td>\n",
       "      <td>0</td>\n",
       "      <td>0</td>\n",
       "      <td>0</td>\n",
       "      <td>0</td>\n",
       "    </tr>\n",
       "  </tbody>\n",
       "</table>\n",
       "<p>3 rows × 48 columns</p>\n",
       "</div>"
      ],
      "text/plain": [
       "    DBSKU  ONLINE_FLAG  TOTAL_UNITS_SOLD  HOLIDAY  UNIT_COST_PRICE  \\\n",
       "0  466896            0               1.0        0             15.5   \n",
       "1  466896            0               2.0        0             15.5   \n",
       "2  466896            0               1.0        0             15.5   \n",
       "\n",
       "   UNIT_SELLING_PRICE  FULL_PRICE_IND  LOC_INDT_SEQ  STORE_SIZE  \\\n",
       "0                16.8               0          1027        3100   \n",
       "1                16.8               0          1027        3100   \n",
       "2                21.0               0          1027        3100   \n",
       "\n",
       "   STORE_TYPE_MALL         ...           PRODUCT_CLASS_12_32  \\\n",
       "0                0         ...                             0   \n",
       "1                0         ...                             0   \n",
       "2                0         ...                             0   \n",
       "\n",
       "   PRODUCT_CLASS_12_40  PRODUCT_CLASS_12_41  PRODUCT_CLASS_12_42  \\\n",
       "0                    0                    0                    0   \n",
       "1                    0                    0                    0   \n",
       "2                    0                    0                    0   \n",
       "\n",
       "   PRODUCT_CLASS_12_5  PRODUCT_CLASS_12_50  PRODUCT_CLASS_12_51  \\\n",
       "0                   0                    0                    0   \n",
       "1                   0                    0                    0   \n",
       "2                   0                    0                    0   \n",
       "\n",
       "   PRODUCT_CLASS_12_52  PRODUCT_CLASS_12_6  PRODUCT_CLASS_12_99  \n",
       "0                    0                   0                    0  \n",
       "1                    0                   0                    0  \n",
       "2                    0                   0                    0  \n",
       "\n",
       "[3 rows x 48 columns]"
      ]
     },
     "execution_count": 12,
     "metadata": {},
     "output_type": "execute_result"
    }
   ],
   "source": [
    "# Verify that the required features have been one hot encoded:\n",
    "df_final_lr.head(3)"
   ]
  },
  {
   "cell_type": "markdown",
   "metadata": {},
   "source": [
    "The final feature engineering file should have n-1 features for each one hot encoded feature - \n",
    "so drop one column accordingly:"
   ]
  },
  {
   "cell_type": "code",
   "execution_count": 13,
   "metadata": {},
   "outputs": [],
   "source": [
    "df_final_lr = df_final_lr.drop(['DEPARTMENT_12'], axis=1)"
   ]
  },
  {
   "cell_type": "code",
   "execution_count": 14,
   "metadata": {},
   "outputs": [],
   "source": [
    "df_final_lr = df_final_lr.drop(['SEASON_4'], axis=1)"
   ]
  },
  {
   "cell_type": "code",
   "execution_count": 15,
   "metadata": {},
   "outputs": [],
   "source": [
    "df_final_lr = df_final_lr.drop(['PRODUCT_CLASS_12_99'], axis=1)"
   ]
  },
  {
   "cell_type": "code",
   "execution_count": 16,
   "metadata": {},
   "outputs": [
    {
     "data": {
      "text/html": [
       "<div>\n",
       "<style scoped>\n",
       "    .dataframe tbody tr th:only-of-type {\n",
       "        vertical-align: middle;\n",
       "    }\n",
       "\n",
       "    .dataframe tbody tr th {\n",
       "        vertical-align: top;\n",
       "    }\n",
       "\n",
       "    .dataframe thead th {\n",
       "        text-align: right;\n",
       "    }\n",
       "</style>\n",
       "<table border=\"1\" class=\"dataframe\">\n",
       "  <thead>\n",
       "    <tr style=\"text-align: right;\">\n",
       "      <th></th>\n",
       "      <th>DBSKU</th>\n",
       "      <th>ONLINE_FLAG</th>\n",
       "      <th>TOTAL_UNITS_SOLD</th>\n",
       "      <th>HOLIDAY</th>\n",
       "      <th>UNIT_COST_PRICE</th>\n",
       "      <th>UNIT_SELLING_PRICE</th>\n",
       "      <th>FULL_PRICE_IND</th>\n",
       "      <th>LOC_INDT_SEQ</th>\n",
       "      <th>STORE_SIZE</th>\n",
       "      <th>STORE_TYPE_MALL</th>\n",
       "      <th>...</th>\n",
       "      <th>PRODUCT_CLASS_12_31</th>\n",
       "      <th>PRODUCT_CLASS_12_32</th>\n",
       "      <th>PRODUCT_CLASS_12_40</th>\n",
       "      <th>PRODUCT_CLASS_12_41</th>\n",
       "      <th>PRODUCT_CLASS_12_42</th>\n",
       "      <th>PRODUCT_CLASS_12_5</th>\n",
       "      <th>PRODUCT_CLASS_12_50</th>\n",
       "      <th>PRODUCT_CLASS_12_51</th>\n",
       "      <th>PRODUCT_CLASS_12_52</th>\n",
       "      <th>PRODUCT_CLASS_12_6</th>\n",
       "    </tr>\n",
       "  </thead>\n",
       "  <tbody>\n",
       "    <tr>\n",
       "      <th>0</th>\n",
       "      <td>466896</td>\n",
       "      <td>0</td>\n",
       "      <td>1.0</td>\n",
       "      <td>0</td>\n",
       "      <td>15.5</td>\n",
       "      <td>16.8</td>\n",
       "      <td>0</td>\n",
       "      <td>1027</td>\n",
       "      <td>3100</td>\n",
       "      <td>0</td>\n",
       "      <td>...</td>\n",
       "      <td>0</td>\n",
       "      <td>0</td>\n",
       "      <td>0</td>\n",
       "      <td>0</td>\n",
       "      <td>0</td>\n",
       "      <td>0</td>\n",
       "      <td>0</td>\n",
       "      <td>0</td>\n",
       "      <td>0</td>\n",
       "      <td>0</td>\n",
       "    </tr>\n",
       "    <tr>\n",
       "      <th>1</th>\n",
       "      <td>466896</td>\n",
       "      <td>0</td>\n",
       "      <td>2.0</td>\n",
       "      <td>0</td>\n",
       "      <td>15.5</td>\n",
       "      <td>16.8</td>\n",
       "      <td>0</td>\n",
       "      <td>1027</td>\n",
       "      <td>3100</td>\n",
       "      <td>0</td>\n",
       "      <td>...</td>\n",
       "      <td>0</td>\n",
       "      <td>0</td>\n",
       "      <td>0</td>\n",
       "      <td>0</td>\n",
       "      <td>0</td>\n",
       "      <td>0</td>\n",
       "      <td>0</td>\n",
       "      <td>0</td>\n",
       "      <td>0</td>\n",
       "      <td>0</td>\n",
       "    </tr>\n",
       "    <tr>\n",
       "      <th>2</th>\n",
       "      <td>466896</td>\n",
       "      <td>0</td>\n",
       "      <td>1.0</td>\n",
       "      <td>0</td>\n",
       "      <td>15.5</td>\n",
       "      <td>21.0</td>\n",
       "      <td>0</td>\n",
       "      <td>1027</td>\n",
       "      <td>3100</td>\n",
       "      <td>0</td>\n",
       "      <td>...</td>\n",
       "      <td>0</td>\n",
       "      <td>0</td>\n",
       "      <td>0</td>\n",
       "      <td>0</td>\n",
       "      <td>0</td>\n",
       "      <td>0</td>\n",
       "      <td>0</td>\n",
       "      <td>0</td>\n",
       "      <td>0</td>\n",
       "      <td>0</td>\n",
       "    </tr>\n",
       "  </tbody>\n",
       "</table>\n",
       "<p>3 rows × 45 columns</p>\n",
       "</div>"
      ],
      "text/plain": [
       "    DBSKU  ONLINE_FLAG  TOTAL_UNITS_SOLD  HOLIDAY  UNIT_COST_PRICE  \\\n",
       "0  466896            0               1.0        0             15.5   \n",
       "1  466896            0               2.0        0             15.5   \n",
       "2  466896            0               1.0        0             15.5   \n",
       "\n",
       "   UNIT_SELLING_PRICE  FULL_PRICE_IND  LOC_INDT_SEQ  STORE_SIZE  \\\n",
       "0                16.8               0          1027        3100   \n",
       "1                16.8               0          1027        3100   \n",
       "2                21.0               0          1027        3100   \n",
       "\n",
       "   STORE_TYPE_MALL         ...          PRODUCT_CLASS_12_31  \\\n",
       "0                0         ...                            0   \n",
       "1                0         ...                            0   \n",
       "2                0         ...                            0   \n",
       "\n",
       "   PRODUCT_CLASS_12_32  PRODUCT_CLASS_12_40  PRODUCT_CLASS_12_41  \\\n",
       "0                    0                    0                    0   \n",
       "1                    0                    0                    0   \n",
       "2                    0                    0                    0   \n",
       "\n",
       "   PRODUCT_CLASS_12_42  PRODUCT_CLASS_12_5  PRODUCT_CLASS_12_50  \\\n",
       "0                    0                   0                    0   \n",
       "1                    0                   0                    0   \n",
       "2                    0                   0                    0   \n",
       "\n",
       "   PRODUCT_CLASS_12_51  PRODUCT_CLASS_12_52  PRODUCT_CLASS_12_6  \n",
       "0                    0                    0                   0  \n",
       "1                    0                    0                   0  \n",
       "2                    0                    0                   0  \n",
       "\n",
       "[3 rows x 45 columns]"
      ]
     },
     "execution_count": 16,
     "metadata": {},
     "output_type": "execute_result"
    }
   ],
   "source": [
    "# Verify that the required features have been dropped:\n",
    "df_final_lr.head(3)"
   ]
  },
  {
   "cell_type": "code",
   "execution_count": 17,
   "metadata": {},
   "outputs": [
    {
     "name": "stdout",
     "output_type": "stream",
     "text": [
      "<class 'pandas.core.frame.DataFrame'>\n",
      "RangeIndex: 13043875 entries, 0 to 13043874\n",
      "Data columns (total 45 columns):\n",
      "DBSKU                          int64\n",
      "ONLINE_FLAG                    int64\n",
      "TOTAL_UNITS_SOLD               float64\n",
      "HOLIDAY                        int64\n",
      "UNIT_COST_PRICE                float64\n",
      "UNIT_SELLING_PRICE             float64\n",
      "FULL_PRICE_IND                 int64\n",
      "LOC_INDT_SEQ                   int64\n",
      "STORE_SIZE                     int64\n",
      "STORE_TYPE_MALL                int64\n",
      "STORE_TYPE_STRIP               int64\n",
      "STORE_TYPE_OTHER               int64\n",
      "PCNT_WOMEN_EMPLOYED            float64\n",
      "MEDIAN_HOUSEHLD_INCOME_BINS    int64\n",
      "SEASON_1                       uint8\n",
      "SEASON_2                       uint8\n",
      "SEASON_3                       uint8\n",
      "DEPARTMENT_10                  uint8\n",
      "PRODUCT_CLASS_10_20            uint8\n",
      "PRODUCT_CLASS_10_21            uint8\n",
      "PRODUCT_CLASS_10_30            uint8\n",
      "PRODUCT_CLASS_10_31            uint8\n",
      "PRODUCT_CLASS_10_32            uint8\n",
      "PRODUCT_CLASS_10_40            uint8\n",
      "PRODUCT_CLASS_10_41            uint8\n",
      "PRODUCT_CLASS_10_42            uint8\n",
      "PRODUCT_CLASS_10_5             uint8\n",
      "PRODUCT_CLASS_10_50            uint8\n",
      "PRODUCT_CLASS_10_51            uint8\n",
      "PRODUCT_CLASS_10_52            uint8\n",
      "PRODUCT_CLASS_10_6             uint8\n",
      "PRODUCT_CLASS_10_99            uint8\n",
      "PRODUCT_CLASS_12_20            uint8\n",
      "PRODUCT_CLASS_12_21            uint8\n",
      "PRODUCT_CLASS_12_30            uint8\n",
      "PRODUCT_CLASS_12_31            uint8\n",
      "PRODUCT_CLASS_12_32            uint8\n",
      "PRODUCT_CLASS_12_40            uint8\n",
      "PRODUCT_CLASS_12_41            uint8\n",
      "PRODUCT_CLASS_12_42            uint8\n",
      "PRODUCT_CLASS_12_5             uint8\n",
      "PRODUCT_CLASS_12_50            uint8\n",
      "PRODUCT_CLASS_12_51            uint8\n",
      "PRODUCT_CLASS_12_52            uint8\n",
      "PRODUCT_CLASS_12_6             uint8\n",
      "dtypes: float64(4), int64(10), uint8(31)\n",
      "memory usage: 1.7 GB\n"
     ]
    }
   ],
   "source": [
    "df_final_lr.info()"
   ]
  },
  {
   "cell_type": "markdown",
   "metadata": {},
   "source": [
    "# Feature Engineering - for Tree based models"
   ]
  },
  {
   "cell_type": "markdown",
   "metadata": {},
   "source": [
    "For tree based models, One Hot Encoding is not needed."
   ]
  },
  {
   "cell_type": "code",
   "execution_count": 18,
   "metadata": {},
   "outputs": [],
   "source": [
    "# We will call the file as df_final_tr\n",
    "df_final_tr = df_final"
   ]
  },
  {
   "cell_type": "code",
   "execution_count": 19,
   "metadata": {},
   "outputs": [
    {
     "data": {
      "text/html": [
       "<div>\n",
       "<style scoped>\n",
       "    .dataframe tbody tr th:only-of-type {\n",
       "        vertical-align: middle;\n",
       "    }\n",
       "\n",
       "    .dataframe tbody tr th {\n",
       "        vertical-align: top;\n",
       "    }\n",
       "\n",
       "    .dataframe thead th {\n",
       "        text-align: right;\n",
       "    }\n",
       "</style>\n",
       "<table border=\"1\" class=\"dataframe\">\n",
       "  <thead>\n",
       "    <tr style=\"text-align: right;\">\n",
       "      <th></th>\n",
       "      <th>DBSKU</th>\n",
       "      <th>ONLINE_FLAG</th>\n",
       "      <th>TOTAL_UNITS_SOLD</th>\n",
       "      <th>HOLIDAY</th>\n",
       "      <th>SEASON</th>\n",
       "      <th>UNIT_COST_PRICE</th>\n",
       "      <th>UNIT_SELLING_PRICE</th>\n",
       "      <th>FULL_PRICE_IND</th>\n",
       "      <th>DEPARTMENT</th>\n",
       "      <th>PRODUCT_CLASS</th>\n",
       "      <th>LOC_INDT_SEQ</th>\n",
       "      <th>STORE_SIZE</th>\n",
       "      <th>STORE_TYPE_MALL</th>\n",
       "      <th>STORE_TYPE_STRIP</th>\n",
       "      <th>STORE_TYPE_OTHER</th>\n",
       "      <th>PCNT_WOMEN_EMPLOYED</th>\n",
       "      <th>MEDIAN_HOUSEHLD_INCOME_BINS</th>\n",
       "    </tr>\n",
       "  </thead>\n",
       "  <tbody>\n",
       "    <tr>\n",
       "      <th>0</th>\n",
       "      <td>466896</td>\n",
       "      <td>0</td>\n",
       "      <td>1.0</td>\n",
       "      <td>0</td>\n",
       "      <td>4</td>\n",
       "      <td>15.5</td>\n",
       "      <td>16.8</td>\n",
       "      <td>0</td>\n",
       "      <td>10</td>\n",
       "      <td>10_31</td>\n",
       "      <td>1027</td>\n",
       "      <td>3100</td>\n",
       "      <td>0</td>\n",
       "      <td>0</td>\n",
       "      <td>1</td>\n",
       "      <td>0.57</td>\n",
       "      <td>2</td>\n",
       "    </tr>\n",
       "    <tr>\n",
       "      <th>1</th>\n",
       "      <td>466896</td>\n",
       "      <td>0</td>\n",
       "      <td>2.0</td>\n",
       "      <td>0</td>\n",
       "      <td>3</td>\n",
       "      <td>15.5</td>\n",
       "      <td>16.8</td>\n",
       "      <td>0</td>\n",
       "      <td>10</td>\n",
       "      <td>10_31</td>\n",
       "      <td>1027</td>\n",
       "      <td>3100</td>\n",
       "      <td>0</td>\n",
       "      <td>0</td>\n",
       "      <td>1</td>\n",
       "      <td>0.57</td>\n",
       "      <td>2</td>\n",
       "    </tr>\n",
       "    <tr>\n",
       "      <th>2</th>\n",
       "      <td>466896</td>\n",
       "      <td>0</td>\n",
       "      <td>1.0</td>\n",
       "      <td>0</td>\n",
       "      <td>4</td>\n",
       "      <td>15.5</td>\n",
       "      <td>21.0</td>\n",
       "      <td>0</td>\n",
       "      <td>10</td>\n",
       "      <td>10_31</td>\n",
       "      <td>1027</td>\n",
       "      <td>3100</td>\n",
       "      <td>0</td>\n",
       "      <td>0</td>\n",
       "      <td>1</td>\n",
       "      <td>0.57</td>\n",
       "      <td>2</td>\n",
       "    </tr>\n",
       "  </tbody>\n",
       "</table>\n",
       "</div>"
      ],
      "text/plain": [
       "    DBSKU  ONLINE_FLAG  TOTAL_UNITS_SOLD  HOLIDAY  SEASON  UNIT_COST_PRICE  \\\n",
       "0  466896            0               1.0        0       4             15.5   \n",
       "1  466896            0               2.0        0       3             15.5   \n",
       "2  466896            0               1.0        0       4             15.5   \n",
       "\n",
       "   UNIT_SELLING_PRICE  FULL_PRICE_IND  DEPARTMENT PRODUCT_CLASS  LOC_INDT_SEQ  \\\n",
       "0                16.8               0          10         10_31          1027   \n",
       "1                16.8               0          10         10_31          1027   \n",
       "2                21.0               0          10         10_31          1027   \n",
       "\n",
       "   STORE_SIZE  STORE_TYPE_MALL  STORE_TYPE_STRIP  STORE_TYPE_OTHER  \\\n",
       "0        3100                0                 0                 1   \n",
       "1        3100                0                 0                 1   \n",
       "2        3100                0                 0                 1   \n",
       "\n",
       "   PCNT_WOMEN_EMPLOYED  MEDIAN_HOUSEHLD_INCOME_BINS  \n",
       "0                 0.57                            2  \n",
       "1                 0.57                            2  \n",
       "2                 0.57                            2  "
      ]
     },
     "execution_count": 19,
     "metadata": {},
     "output_type": "execute_result"
    }
   ],
   "source": [
    "# Verify that the file has been copied over:\n",
    "df_final_tr.head(3)"
   ]
  },
  {
   "cell_type": "code",
   "execution_count": 20,
   "metadata": {},
   "outputs": [],
   "source": [
    "# Remove the underscore from product class:\n",
    "df_final_tr['PRODUCT_CLASS'] = df_final_tr.PRODUCT_CLASS.str.replace('_','')"
   ]
  },
  {
   "cell_type": "code",
   "execution_count": 21,
   "metadata": {},
   "outputs": [],
   "source": [
    "# Convert Product_Class to an integer data type:\n",
    "df_final_tr['PRODUCT_CLASS'] = df_final_tr['PRODUCT_CLASS'].astype('int64')"
   ]
  },
  {
   "cell_type": "code",
   "execution_count": 22,
   "metadata": {},
   "outputs": [
    {
     "name": "stdout",
     "output_type": "stream",
     "text": [
      "<class 'pandas.core.frame.DataFrame'>\n",
      "RangeIndex: 13043875 entries, 0 to 13043874\n",
      "Data columns (total 17 columns):\n",
      "DBSKU                          int64\n",
      "ONLINE_FLAG                    int64\n",
      "TOTAL_UNITS_SOLD               float64\n",
      "HOLIDAY                        int64\n",
      "SEASON                         int64\n",
      "UNIT_COST_PRICE                float64\n",
      "UNIT_SELLING_PRICE             float64\n",
      "FULL_PRICE_IND                 int64\n",
      "DEPARTMENT                     int64\n",
      "PRODUCT_CLASS                  int64\n",
      "LOC_INDT_SEQ                   int64\n",
      "STORE_SIZE                     int64\n",
      "STORE_TYPE_MALL                int64\n",
      "STORE_TYPE_STRIP               int64\n",
      "STORE_TYPE_OTHER               int64\n",
      "PCNT_WOMEN_EMPLOYED            float64\n",
      "MEDIAN_HOUSEHLD_INCOME_BINS    int64\n",
      "dtypes: float64(4), int64(13)\n",
      "memory usage: 1.7 GB\n"
     ]
    }
   ],
   "source": [
    "# Verify that the integer conversion has happened:\n",
    "df_final_tr.info()"
   ]
  },
  {
   "cell_type": "code",
   "execution_count": 23,
   "metadata": {},
   "outputs": [
    {
     "data": {
      "text/html": [
       "<div>\n",
       "<style scoped>\n",
       "    .dataframe tbody tr th:only-of-type {\n",
       "        vertical-align: middle;\n",
       "    }\n",
       "\n",
       "    .dataframe tbody tr th {\n",
       "        vertical-align: top;\n",
       "    }\n",
       "\n",
       "    .dataframe thead th {\n",
       "        text-align: right;\n",
       "    }\n",
       "</style>\n",
       "<table border=\"1\" class=\"dataframe\">\n",
       "  <thead>\n",
       "    <tr style=\"text-align: right;\">\n",
       "      <th></th>\n",
       "      <th>DBSKU</th>\n",
       "      <th>ONLINE_FLAG</th>\n",
       "      <th>TOTAL_UNITS_SOLD</th>\n",
       "      <th>HOLIDAY</th>\n",
       "      <th>SEASON</th>\n",
       "      <th>UNIT_COST_PRICE</th>\n",
       "      <th>UNIT_SELLING_PRICE</th>\n",
       "      <th>FULL_PRICE_IND</th>\n",
       "      <th>DEPARTMENT</th>\n",
       "      <th>PRODUCT_CLASS</th>\n",
       "      <th>LOC_INDT_SEQ</th>\n",
       "      <th>STORE_SIZE</th>\n",
       "      <th>STORE_TYPE_MALL</th>\n",
       "      <th>STORE_TYPE_STRIP</th>\n",
       "      <th>STORE_TYPE_OTHER</th>\n",
       "      <th>PCNT_WOMEN_EMPLOYED</th>\n",
       "      <th>MEDIAN_HOUSEHLD_INCOME_BINS</th>\n",
       "    </tr>\n",
       "  </thead>\n",
       "  <tbody>\n",
       "    <tr>\n",
       "      <th>0</th>\n",
       "      <td>466896</td>\n",
       "      <td>0</td>\n",
       "      <td>1.0</td>\n",
       "      <td>0</td>\n",
       "      <td>4</td>\n",
       "      <td>15.5</td>\n",
       "      <td>16.8</td>\n",
       "      <td>0</td>\n",
       "      <td>10</td>\n",
       "      <td>1031</td>\n",
       "      <td>1027</td>\n",
       "      <td>3100</td>\n",
       "      <td>0</td>\n",
       "      <td>0</td>\n",
       "      <td>1</td>\n",
       "      <td>0.57</td>\n",
       "      <td>2</td>\n",
       "    </tr>\n",
       "    <tr>\n",
       "      <th>1</th>\n",
       "      <td>466896</td>\n",
       "      <td>0</td>\n",
       "      <td>2.0</td>\n",
       "      <td>0</td>\n",
       "      <td>3</td>\n",
       "      <td>15.5</td>\n",
       "      <td>16.8</td>\n",
       "      <td>0</td>\n",
       "      <td>10</td>\n",
       "      <td>1031</td>\n",
       "      <td>1027</td>\n",
       "      <td>3100</td>\n",
       "      <td>0</td>\n",
       "      <td>0</td>\n",
       "      <td>1</td>\n",
       "      <td>0.57</td>\n",
       "      <td>2</td>\n",
       "    </tr>\n",
       "    <tr>\n",
       "      <th>2</th>\n",
       "      <td>466896</td>\n",
       "      <td>0</td>\n",
       "      <td>1.0</td>\n",
       "      <td>0</td>\n",
       "      <td>4</td>\n",
       "      <td>15.5</td>\n",
       "      <td>21.0</td>\n",
       "      <td>0</td>\n",
       "      <td>10</td>\n",
       "      <td>1031</td>\n",
       "      <td>1027</td>\n",
       "      <td>3100</td>\n",
       "      <td>0</td>\n",
       "      <td>0</td>\n",
       "      <td>1</td>\n",
       "      <td>0.57</td>\n",
       "      <td>2</td>\n",
       "    </tr>\n",
       "  </tbody>\n",
       "</table>\n",
       "</div>"
      ],
      "text/plain": [
       "    DBSKU  ONLINE_FLAG  TOTAL_UNITS_SOLD  HOLIDAY  SEASON  UNIT_COST_PRICE  \\\n",
       "0  466896            0               1.0        0       4             15.5   \n",
       "1  466896            0               2.0        0       3             15.5   \n",
       "2  466896            0               1.0        0       4             15.5   \n",
       "\n",
       "   UNIT_SELLING_PRICE  FULL_PRICE_IND  DEPARTMENT  PRODUCT_CLASS  \\\n",
       "0                16.8               0          10           1031   \n",
       "1                16.8               0          10           1031   \n",
       "2                21.0               0          10           1031   \n",
       "\n",
       "   LOC_INDT_SEQ  STORE_SIZE  STORE_TYPE_MALL  STORE_TYPE_STRIP  \\\n",
       "0          1027        3100                0                 0   \n",
       "1          1027        3100                0                 0   \n",
       "2          1027        3100                0                 0   \n",
       "\n",
       "   STORE_TYPE_OTHER  PCNT_WOMEN_EMPLOYED  MEDIAN_HOUSEHLD_INCOME_BINS  \n",
       "0                 1                 0.57                            2  \n",
       "1                 1                 0.57                            2  \n",
       "2                 1                 0.57                            2  "
      ]
     },
     "execution_count": 23,
     "metadata": {},
     "output_type": "execute_result"
    }
   ],
   "source": [
    "# Verify the product class sequence transaformation:\n",
    "df_final_tr.head(3)"
   ]
  },
  {
   "cell_type": "code",
   "execution_count": 24,
   "metadata": {},
   "outputs": [
    {
     "data": {
      "text/html": [
       "<div>\n",
       "<style scoped>\n",
       "    .dataframe tbody tr th:only-of-type {\n",
       "        vertical-align: middle;\n",
       "    }\n",
       "\n",
       "    .dataframe tbody tr th {\n",
       "        vertical-align: top;\n",
       "    }\n",
       "\n",
       "    .dataframe thead th {\n",
       "        text-align: right;\n",
       "    }\n",
       "</style>\n",
       "<table border=\"1\" class=\"dataframe\">\n",
       "  <thead>\n",
       "    <tr style=\"text-align: right;\">\n",
       "      <th></th>\n",
       "      <th>DBSKU</th>\n",
       "      <th>ONLINE_FLAG</th>\n",
       "      <th>TOTAL_UNITS_SOLD</th>\n",
       "      <th>HOLIDAY</th>\n",
       "      <th>SEASON</th>\n",
       "      <th>UNIT_COST_PRICE</th>\n",
       "      <th>UNIT_SELLING_PRICE</th>\n",
       "      <th>FULL_PRICE_IND</th>\n",
       "      <th>DEPARTMENT</th>\n",
       "      <th>PRODUCT_CLASS</th>\n",
       "      <th>LOC_INDT_SEQ</th>\n",
       "      <th>STORE_SIZE</th>\n",
       "      <th>STORE_TYPE_MALL</th>\n",
       "      <th>STORE_TYPE_STRIP</th>\n",
       "      <th>STORE_TYPE_OTHER</th>\n",
       "      <th>PCNT_WOMEN_EMPLOYED</th>\n",
       "      <th>MEDIAN_HOUSEHLD_INCOME_BINS</th>\n",
       "    </tr>\n",
       "  </thead>\n",
       "  <tbody>\n",
       "    <tr>\n",
       "      <th>13043872</th>\n",
       "      <td>714022</td>\n",
       "      <td>0</td>\n",
       "      <td>1.0</td>\n",
       "      <td>0</td>\n",
       "      <td>3</td>\n",
       "      <td>16.5</td>\n",
       "      <td>29.40</td>\n",
       "      <td>0</td>\n",
       "      <td>10</td>\n",
       "      <td>1020</td>\n",
       "      <td>1178</td>\n",
       "      <td>2900</td>\n",
       "      <td>0</td>\n",
       "      <td>1</td>\n",
       "      <td>0</td>\n",
       "      <td>0.58</td>\n",
       "      <td>3</td>\n",
       "    </tr>\n",
       "    <tr>\n",
       "      <th>13043873</th>\n",
       "      <td>714162</td>\n",
       "      <td>0</td>\n",
       "      <td>1.0</td>\n",
       "      <td>0</td>\n",
       "      <td>3</td>\n",
       "      <td>14.0</td>\n",
       "      <td>26.40</td>\n",
       "      <td>0</td>\n",
       "      <td>10</td>\n",
       "      <td>1020</td>\n",
       "      <td>1178</td>\n",
       "      <td>2900</td>\n",
       "      <td>0</td>\n",
       "      <td>1</td>\n",
       "      <td>0</td>\n",
       "      <td>0.58</td>\n",
       "      <td>3</td>\n",
       "    </tr>\n",
       "    <tr>\n",
       "      <th>13043874</th>\n",
       "      <td>2183830</td>\n",
       "      <td>0</td>\n",
       "      <td>1.0</td>\n",
       "      <td>0</td>\n",
       "      <td>2</td>\n",
       "      <td>17.0</td>\n",
       "      <td>31.15</td>\n",
       "      <td>0</td>\n",
       "      <td>12</td>\n",
       "      <td>1220</td>\n",
       "      <td>1178</td>\n",
       "      <td>2900</td>\n",
       "      <td>0</td>\n",
       "      <td>1</td>\n",
       "      <td>0</td>\n",
       "      <td>0.58</td>\n",
       "      <td>3</td>\n",
       "    </tr>\n",
       "  </tbody>\n",
       "</table>\n",
       "</div>"
      ],
      "text/plain": [
       "            DBSKU  ONLINE_FLAG  TOTAL_UNITS_SOLD  HOLIDAY  SEASON  \\\n",
       "13043872   714022            0               1.0        0       3   \n",
       "13043873   714162            0               1.0        0       3   \n",
       "13043874  2183830            0               1.0        0       2   \n",
       "\n",
       "          UNIT_COST_PRICE  UNIT_SELLING_PRICE  FULL_PRICE_IND  DEPARTMENT  \\\n",
       "13043872             16.5               29.40               0          10   \n",
       "13043873             14.0               26.40               0          10   \n",
       "13043874             17.0               31.15               0          12   \n",
       "\n",
       "          PRODUCT_CLASS  LOC_INDT_SEQ  STORE_SIZE  STORE_TYPE_MALL  \\\n",
       "13043872           1020          1178        2900                0   \n",
       "13043873           1020          1178        2900                0   \n",
       "13043874           1220          1178        2900                0   \n",
       "\n",
       "          STORE_TYPE_STRIP  STORE_TYPE_OTHER  PCNT_WOMEN_EMPLOYED  \\\n",
       "13043872                 1                 0                 0.58   \n",
       "13043873                 1                 0                 0.58   \n",
       "13043874                 1                 0                 0.58   \n",
       "\n",
       "          MEDIAN_HOUSEHLD_INCOME_BINS  \n",
       "13043872                            3  \n",
       "13043873                            3  \n",
       "13043874                            3  "
      ]
     },
     "execution_count": 24,
     "metadata": {},
     "output_type": "execute_result"
    }
   ],
   "source": [
    "# Verify the product class sequence transaformation:\n",
    "df_final_tr.tail(3)"
   ]
  },
  {
   "cell_type": "markdown",
   "metadata": {},
   "source": [
    "### Profit Optimization Feature Engineering"
   ]
  },
  {
   "cell_type": "code",
   "execution_count": 25,
   "metadata": {},
   "outputs": [],
   "source": [
    "df_final_optimal=df_final_lr.copy()"
   ]
  },
  {
   "cell_type": "code",
   "execution_count": 26,
   "metadata": {},
   "outputs": [],
   "source": [
    "df_final_optimal['PROFIT_PERCENT'] = ((df_final_optimal['UNIT_SELLING_PRICE'] - \n",
    "                                       df_final_optimal['UNIT_COST_PRICE'])/df_final_optimal['UNIT_COST_PRICE'])*100"
   ]
  },
  {
   "cell_type": "code",
   "execution_count": 27,
   "metadata": {},
   "outputs": [
    {
     "data": {
      "text/plain": [
       "988142"
      ]
     },
     "execution_count": 27,
     "metadata": {},
     "output_type": "execute_result"
    }
   ],
   "source": [
    "len(df_final_optimal[df_final_optimal['PROFIT_PERCENT'] <=0]) # Loss transactions"
   ]
  },
  {
   "cell_type": "markdown",
   "metadata": {},
   "source": [
    "How many profit transactions in sample ?"
   ]
  },
  {
   "cell_type": "code",
   "execution_count": 28,
   "metadata": {},
   "outputs": [
    {
     "data": {
      "text/plain": [
       "12055733"
      ]
     },
     "execution_count": 28,
     "metadata": {},
     "output_type": "execute_result"
    }
   ],
   "source": [
    "len(df_final_optimal[df_final_optimal['PROFIT_PERCENT'] > 0]) # Profit transactions"
   ]
  },
  {
   "cell_type": "markdown",
   "metadata": {},
   "source": [
    "How many transactions which profit percentage lies from 0 to 100"
   ]
  },
  {
   "cell_type": "code",
   "execution_count": 29,
   "metadata": {},
   "outputs": [
    {
     "data": {
      "text/plain": [
       "3792467"
      ]
     },
     "execution_count": 29,
     "metadata": {},
     "output_type": "execute_result"
    }
   ],
   "source": [
    "len(df_final_optimal[(df_final_optimal['PROFIT_PERCENT'] > 0) & \n",
    "                     (df_final_optimal['PROFIT_PERCENT'] <= 100)]) # Profit transactions"
   ]
  },
  {
   "cell_type": "markdown",
   "metadata": {},
   "source": [
    "How many transactions which profit percentage lies more then 100"
   ]
  },
  {
   "cell_type": "code",
   "execution_count": 30,
   "metadata": {},
   "outputs": [
    {
     "data": {
      "text/plain": [
       "Index(['DBSKU', 'ONLINE_FLAG', 'TOTAL_UNITS_SOLD', 'HOLIDAY',\n",
       "       'UNIT_COST_PRICE', 'UNIT_SELLING_PRICE', 'FULL_PRICE_IND',\n",
       "       'LOC_INDT_SEQ', 'STORE_SIZE', 'STORE_TYPE_MALL', 'STORE_TYPE_STRIP',\n",
       "       'STORE_TYPE_OTHER', 'PCNT_WOMEN_EMPLOYED',\n",
       "       'MEDIAN_HOUSEHLD_INCOME_BINS', 'SEASON_1', 'SEASON_2', 'SEASON_3',\n",
       "       'DEPARTMENT_10', 'PRODUCT_CLASS_10_20', 'PRODUCT_CLASS_10_21',\n",
       "       'PRODUCT_CLASS_10_30', 'PRODUCT_CLASS_10_31', 'PRODUCT_CLASS_10_32',\n",
       "       'PRODUCT_CLASS_10_40', 'PRODUCT_CLASS_10_41', 'PRODUCT_CLASS_10_42',\n",
       "       'PRODUCT_CLASS_10_5', 'PRODUCT_CLASS_10_50', 'PRODUCT_CLASS_10_51',\n",
       "       'PRODUCT_CLASS_10_52', 'PRODUCT_CLASS_10_6', 'PRODUCT_CLASS_10_99',\n",
       "       'PRODUCT_CLASS_12_20', 'PRODUCT_CLASS_12_21', 'PRODUCT_CLASS_12_30',\n",
       "       'PRODUCT_CLASS_12_31', 'PRODUCT_CLASS_12_32', 'PRODUCT_CLASS_12_40',\n",
       "       'PRODUCT_CLASS_12_41', 'PRODUCT_CLASS_12_42', 'PRODUCT_CLASS_12_5',\n",
       "       'PRODUCT_CLASS_12_50', 'PRODUCT_CLASS_12_51', 'PRODUCT_CLASS_12_52',\n",
       "       'PRODUCT_CLASS_12_6', 'PROFIT_PERCENT'],\n",
       "      dtype='object')"
      ]
     },
     "execution_count": 30,
     "metadata": {},
     "output_type": "execute_result"
    }
   ],
   "source": [
    "df_final_optimal.columns"
   ]
  },
  {
   "cell_type": "markdown",
   "metadata": {},
   "source": [
    "Describe quantiles of PROFIT_PERCENT column"
   ]
  },
  {
   "cell_type": "code",
   "execution_count": 31,
   "metadata": {},
   "outputs": [
    {
     "data": {
      "text/plain": [
       "count    13043875.0\n",
       "mean           37.2\n",
       "std            13.4\n",
       "min             0.0\n",
       "10%            19.8\n",
       "20%            24.5\n",
       "30%            30.0\n",
       "40%            34.8\n",
       "50%            38.4\n",
       "60%            40.5\n",
       "70%            44.2\n",
       "80%            48.0\n",
       "90%            54.0\n",
       "99.9%          78.0\n",
       "max           150.0\n",
       "Name: UNIT_SELLING_PRICE, dtype: float64"
      ]
     },
     "execution_count": 31,
     "metadata": {},
     "output_type": "execute_result"
    }
   ],
   "source": [
    "round(df_final_optimal.UNIT_SELLING_PRICE.describe([0.1,0.2,0.3,0.4,0.6,0.7,0.8,0.9,0.999]),1)"
   ]
  },
  {
   "cell_type": "code",
   "execution_count": 32,
   "metadata": {},
   "outputs": [
    {
     "data": {
      "text/plain": [
       "count    13043875.0\n",
       "mean          118.9\n",
       "std           111.2\n",
       "min          -100.0\n",
       "10%             9.5\n",
       "20%            40.8\n",
       "30%            79.0\n",
       "40%           109.1\n",
       "50%           126.7\n",
       "60%           145.4\n",
       "70%           166.7\n",
       "80%           182.9\n",
       "90%           208.5\n",
       "99.9%         348.0\n",
       "max        189800.0\n",
       "Name: PROFIT_PERCENT, dtype: float64"
      ]
     },
     "execution_count": 32,
     "metadata": {},
     "output_type": "execute_result"
    }
   ],
   "source": [
    "round(df_final_optimal.PROFIT_PERCENT.describe([0.1,0.2,0.3,0.4,0.6,0.7,0.8,0.9,0.999]),1)"
   ]
  },
  {
   "cell_type": "code",
   "execution_count": 33,
   "metadata": {},
   "outputs": [
    {
     "data": {
      "text/plain": [
       "(13043875, 46)"
      ]
     },
     "execution_count": 33,
     "metadata": {},
     "output_type": "execute_result"
    }
   ],
   "source": [
    "df_final_optimal.shape"
   ]
  },
  {
   "cell_type": "markdown",
   "metadata": {},
   "source": [
    "We can not build the model with all transactions. Then it will just predict price irrepsctive to profit or loss\n",
    "\n",
    "We can build model with profitable transactions alone, but out objective is to maximize the profits\n",
    "\n",
    "So we can put some minimum non-zero profit percentage cutoff before building model. Note that as cut-off increases, number of transactions will reduce, so inturn it will impact number of customers. So there should be so trade off between profit percentage cut-off and number of customers. For this model I choosen 0.1 percentaile as cut-off, to stay in more safer position. "
   ]
  },
  {
   "cell_type": "markdown",
   "metadata": {},
   "source": [
    " # Save the datasets that were created for modeling:"
   ]
  },
  {
   "cell_type": "code",
   "execution_count": 34,
   "metadata": {},
   "outputs": [],
   "source": [
    "# For linear regression:\n",
    "df_final_lr.to_csv('lr_txn_modelingdata_full.csv', index=False)"
   ]
  },
  {
   "cell_type": "code",
   "execution_count": 35,
   "metadata": {},
   "outputs": [],
   "source": [
    "# For tree based techniques:\n",
    "df_final_tr.to_csv('tr_txn_modelingdata_full.csv', index=False)"
   ]
  },
  {
   "cell_type": "code",
   "execution_count": 36,
   "metadata": {},
   "outputs": [],
   "source": [
    "df_final_optimal.to_csv('optimization_modelingdata_full.csv', index=False)"
   ]
  },
  {
   "cell_type": "code",
   "execution_count": null,
   "metadata": {},
   "outputs": [],
   "source": []
  }
 ],
 "metadata": {
  "file_extension": ".py",
  "kernelspec": {
   "display_name": "Python 3",
   "language": "python",
   "name": "python3"
  },
  "language_info": {
   "codemirror_mode": {
    "name": "ipython",
    "version": 3
   },
   "file_extension": ".py",
   "mimetype": "text/x-python",
   "name": "python",
   "nbconvert_exporter": "python",
   "pygments_lexer": "ipython3",
   "version": "3.7.1"
  },
  "mimetype": "text/x-python",
  "name": "python",
  "npconvert_exporter": "python",
  "pygments_lexer": "ipython3",
  "version": 3
 },
 "nbformat": 4,
 "nbformat_minor": 2
}
